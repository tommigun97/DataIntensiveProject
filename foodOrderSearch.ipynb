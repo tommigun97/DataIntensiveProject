{
 "cells": [
  {
   "cell_type": "markdown",
   "metadata": {},
   "source": [
    "# FLEE - a Restaurant Analisys"
   ]
  },
  {
   "cell_type": "markdown",
   "metadata": {},
   "source": [
    "L'obiettivo di questo progetto è aiutare un possibile ristorante, nel capire come selezionare le giuste quantità di prodotti giorno dopo giorno. Fornire quindi all'interessato lo studio effettuato su dati delle vendite dei piatti. Dato uno speifico giorno e un piatto capire con quale quantità si ripresenterà il prossimo giorno selezionato. Il principale lavoro è quindi rivolto allo studio di una variabile continua, le quantità vendute di uno determinato prodotto."
   ]
  },
  {
   "cell_type": "code",
   "execution_count": 3,
   "metadata": {},
   "outputs": [],
   "source": [
    "import numpy as np\n",
    "import pandas as pd\n",
    "import os\n",
    "import csv\n",
    "import math\n",
    "import matplotlib.pyplot as plt\n",
    "import datetime as datetime"
   ]
  },
  {
   "cell_type": "code",
   "execution_count": 4,
   "metadata": {},
   "outputs": [],
   "source": [
    "%matplotlib inline"
   ]
  },
  {
   "cell_type": "markdown",
   "metadata": {},
   "source": [
    "I dati utilizzati son stati acquisiti da Kaggle."
   ]
  },
  {
   "cell_type": "markdown",
   "metadata": {},
   "source": [
    "Prelevo i dati e li inserisco nei seguenti data frame.\n",
    "\n",
    "ORDERS -> al suo interno sono presenti tutti i dati relativi alle vendite effettuate negli anni dal 2015 al 2019, e le colonne \n",
    "          di interesse sono: il numero dell'ordine, la data in cui è stato emesso, il nome del prodotto venduto, la quantità, \n",
    "          il prezzo di listino, il totale dei prodotti venduti in un determinato ordine. Una partocolarità è che i numeri degli \n",
    "          ordini non sono univoci, vuole dire che ci possono essere più 'Order Number' uguali che indicano si lo stesso ordine \n",
    "          effettuato da un cliente, ma ogni riga del data frame specifica un diverso prodotto.\n",
    "          \n",
    "PRODUCTS -> questo data frame è il listino dei prodotti del ristorante con i relativi nomi dei prodotti e prezzi per unità."
   ]
  },
  {
   "cell_type": "code",
   "execution_count": 5,
   "metadata": {
    "scrolled": true
   },
   "outputs": [
    {
     "data": {
      "text/html": [
       "<div>\n",
       "<style scoped>\n",
       "    .dataframe tbody tr th:only-of-type {\n",
       "        vertical-align: middle;\n",
       "    }\n",
       "\n",
       "    .dataframe tbody tr th {\n",
       "        vertical-align: top;\n",
       "    }\n",
       "\n",
       "    .dataframe thead th {\n",
       "        text-align: right;\n",
       "    }\n",
       "</style>\n",
       "<table border=\"1\" class=\"dataframe\">\n",
       "  <thead>\n",
       "    <tr style=\"text-align: right;\">\n",
       "      <th></th>\n",
       "      <th>Order Number</th>\n",
       "      <th>Order Date</th>\n",
       "      <th>Item Name</th>\n",
       "      <th>Quantity</th>\n",
       "      <th>Product Price</th>\n",
       "      <th>Total products</th>\n",
       "    </tr>\n",
       "  </thead>\n",
       "  <tbody>\n",
       "    <tr>\n",
       "      <th>0</th>\n",
       "      <td>16118</td>\n",
       "      <td>03/08/2019 20:25</td>\n",
       "      <td>Plain Papadum</td>\n",
       "      <td>2</td>\n",
       "      <td>0.80</td>\n",
       "      <td>6</td>\n",
       "    </tr>\n",
       "    <tr>\n",
       "      <th>1</th>\n",
       "      <td>16118</td>\n",
       "      <td>03/08/2019 20:25</td>\n",
       "      <td>King Prawn Balti</td>\n",
       "      <td>1</td>\n",
       "      <td>12.95</td>\n",
       "      <td>6</td>\n",
       "    </tr>\n",
       "    <tr>\n",
       "      <th>2</th>\n",
       "      <td>16118</td>\n",
       "      <td>03/08/2019 20:25</td>\n",
       "      <td>Garlic Naan</td>\n",
       "      <td>1</td>\n",
       "      <td>2.95</td>\n",
       "      <td>6</td>\n",
       "    </tr>\n",
       "    <tr>\n",
       "      <th>3</th>\n",
       "      <td>16118</td>\n",
       "      <td>03/08/2019 20:25</td>\n",
       "      <td>Mushroom Rice</td>\n",
       "      <td>1</td>\n",
       "      <td>3.95</td>\n",
       "      <td>6</td>\n",
       "    </tr>\n",
       "    <tr>\n",
       "      <th>4</th>\n",
       "      <td>16118</td>\n",
       "      <td>03/08/2019 20:25</td>\n",
       "      <td>Paneer Tikka Masala</td>\n",
       "      <td>1</td>\n",
       "      <td>8.95</td>\n",
       "      <td>6</td>\n",
       "    </tr>\n",
       "  </tbody>\n",
       "</table>\n",
       "</div>"
      ],
      "text/plain": [
       "   Order Number        Order Date            Item Name  Quantity  \\\n",
       "0         16118  03/08/2019 20:25        Plain Papadum         2   \n",
       "1         16118  03/08/2019 20:25     King Prawn Balti         1   \n",
       "2         16118  03/08/2019 20:25          Garlic Naan         1   \n",
       "3         16118  03/08/2019 20:25        Mushroom Rice         1   \n",
       "4         16118  03/08/2019 20:25  Paneer Tikka Masala         1   \n",
       "\n",
       "   Product Price  Total products  \n",
       "0           0.80               6  \n",
       "1          12.95               6  \n",
       "2           2.95               6  \n",
       "3           3.95               6  \n",
       "4           8.95               6  "
      ]
     },
     "execution_count": 5,
     "metadata": {},
     "output_type": "execute_result"
    }
   ],
   "source": [
    "orders = pd.read_csv(r\"C:\\\\Users\\\\Tommi\\\\DataIntensiveProject\\restaurant-1-orders.csv\")\n",
    "orders.head()"
   ]
  },
  {
   "cell_type": "code",
   "execution_count": 6,
   "metadata": {},
   "outputs": [
    {
     "data": {
      "text/html": [
       "<div>\n",
       "<style scoped>\n",
       "    .dataframe tbody tr th:only-of-type {\n",
       "        vertical-align: middle;\n",
       "    }\n",
       "\n",
       "    .dataframe tbody tr th {\n",
       "        vertical-align: top;\n",
       "    }\n",
       "\n",
       "    .dataframe thead th {\n",
       "        text-align: right;\n",
       "    }\n",
       "</style>\n",
       "<table border=\"1\" class=\"dataframe\">\n",
       "  <thead>\n",
       "    <tr style=\"text-align: right;\">\n",
       "      <th></th>\n",
       "      <th>Item Name</th>\n",
       "      <th>Product Price</th>\n",
       "    </tr>\n",
       "  </thead>\n",
       "  <tbody>\n",
       "    <tr>\n",
       "      <th>0</th>\n",
       "      <td>Mint Sauce</td>\n",
       "      <td>0.5</td>\n",
       "    </tr>\n",
       "    <tr>\n",
       "      <th>1</th>\n",
       "      <td>Lime Pickle</td>\n",
       "      <td>0.5</td>\n",
       "    </tr>\n",
       "    <tr>\n",
       "      <th>2</th>\n",
       "      <td>Mango Chutney</td>\n",
       "      <td>0.5</td>\n",
       "    </tr>\n",
       "    <tr>\n",
       "      <th>3</th>\n",
       "      <td>Red Sauce</td>\n",
       "      <td>0.5</td>\n",
       "    </tr>\n",
       "    <tr>\n",
       "      <th>4</th>\n",
       "      <td>Onion Chutney</td>\n",
       "      <td>0.5</td>\n",
       "    </tr>\n",
       "  </tbody>\n",
       "</table>\n",
       "</div>"
      ],
      "text/plain": [
       "       Item Name  Product Price\n",
       "0     Mint Sauce            0.5\n",
       "1    Lime Pickle            0.5\n",
       "2  Mango Chutney            0.5\n",
       "3      Red Sauce            0.5\n",
       "4  Onion Chutney            0.5"
      ]
     },
     "execution_count": 6,
     "metadata": {},
     "output_type": "execute_result"
    }
   ],
   "source": [
    "products = pd.read_csv(r\"C:\\\\Users\\\\Tommi\\\\DataIntensiveProject\\restaurant-1-products-price.csv\")\n",
    "products.head()"
   ]
  },
  {
   "cell_type": "markdown",
   "metadata": {},
   "source": [
    "L'attributo 'Order Date' che è un tipo Object, viene trasformanto in un tipo Date, in questo modo è possibile eseguire determinate operazioni su questo dato."
   ]
  },
  {
   "cell_type": "code",
   "execution_count": 7,
   "metadata": {},
   "outputs": [],
   "source": [
    "orders['Order Date'] =  pd.to_datetime(orders['Order Date'])\n",
    "orders['Order Date'] = pd.to_datetime(orders['Order Date']).dt.normalize()"
   ]
  },
  {
   "cell_type": "markdown",
   "metadata": {},
   "source": [
    "Il numero totale dei prodotti presenti nel ristorante."
   ]
  },
  {
   "cell_type": "code",
   "execution_count": 8,
   "metadata": {},
   "outputs": [
    {
     "data": {
      "text/plain": [
       "248"
      ]
     },
     "execution_count": 8,
     "metadata": {},
     "output_type": "execute_result"
    }
   ],
   "source": [
    "len(orders[\"Item Name\"].unique())"
   ]
  },
  {
   "cell_type": "markdown",
   "metadata": {},
   "source": [
    "Si utilizza la funzione 'describe' su le colonne di interesse, tralasciando quelle non di valore per questa ricerca."
   ]
  },
  {
   "cell_type": "code",
   "execution_count": 9,
   "metadata": {},
   "outputs": [
    {
     "data": {
      "text/html": [
       "<div>\n",
       "<style scoped>\n",
       "    .dataframe tbody tr th:only-of-type {\n",
       "        vertical-align: middle;\n",
       "    }\n",
       "\n",
       "    .dataframe tbody tr th {\n",
       "        vertical-align: top;\n",
       "    }\n",
       "\n",
       "    .dataframe thead th {\n",
       "        text-align: right;\n",
       "    }\n",
       "</style>\n",
       "<table border=\"1\" class=\"dataframe\">\n",
       "  <thead>\n",
       "    <tr style=\"text-align: right;\">\n",
       "      <th></th>\n",
       "      <th>Quantity</th>\n",
       "      <th>Product Price</th>\n",
       "      <th>Total products</th>\n",
       "    </tr>\n",
       "  </thead>\n",
       "  <tbody>\n",
       "    <tr>\n",
       "      <th>count</th>\n",
       "      <td>74818.000000</td>\n",
       "      <td>74818.000000</td>\n",
       "      <td>74818.000000</td>\n",
       "    </tr>\n",
       "    <tr>\n",
       "      <th>mean</th>\n",
       "      <td>1.243564</td>\n",
       "      <td>5.286492</td>\n",
       "      <td>6.931434</td>\n",
       "    </tr>\n",
       "    <tr>\n",
       "      <th>std</th>\n",
       "      <td>0.798207</td>\n",
       "      <td>3.338221</td>\n",
       "      <td>3.954832</td>\n",
       "    </tr>\n",
       "    <tr>\n",
       "      <th>min</th>\n",
       "      <td>1.000000</td>\n",
       "      <td>0.500000</td>\n",
       "      <td>1.000000</td>\n",
       "    </tr>\n",
       "    <tr>\n",
       "      <th>25%</th>\n",
       "      <td>1.000000</td>\n",
       "      <td>2.950000</td>\n",
       "      <td>5.000000</td>\n",
       "    </tr>\n",
       "    <tr>\n",
       "      <th>50%</th>\n",
       "      <td>1.000000</td>\n",
       "      <td>3.950000</td>\n",
       "      <td>6.000000</td>\n",
       "    </tr>\n",
       "    <tr>\n",
       "      <th>75%</th>\n",
       "      <td>1.000000</td>\n",
       "      <td>8.950000</td>\n",
       "      <td>8.000000</td>\n",
       "    </tr>\n",
       "    <tr>\n",
       "      <th>max</th>\n",
       "      <td>51.000000</td>\n",
       "      <td>17.950000</td>\n",
       "      <td>60.000000</td>\n",
       "    </tr>\n",
       "  </tbody>\n",
       "</table>\n",
       "</div>"
      ],
      "text/plain": [
       "           Quantity  Product Price  Total products\n",
       "count  74818.000000   74818.000000    74818.000000\n",
       "mean       1.243564       5.286492        6.931434\n",
       "std        0.798207       3.338221        3.954832\n",
       "min        1.000000       0.500000        1.000000\n",
       "25%        1.000000       2.950000        5.000000\n",
       "50%        1.000000       3.950000        6.000000\n",
       "75%        1.000000       8.950000        8.000000\n",
       "max       51.000000      17.950000       60.000000"
      ]
     },
     "execution_count": 9,
     "metadata": {},
     "output_type": "execute_result"
    }
   ],
   "source": [
    "orders[[\"Quantity\", \"Product Price\", \"Total products\"]].describe()"
   ]
  },
  {
   "cell_type": "code",
   "execution_count": 10,
   "metadata": {},
   "outputs": [
    {
     "data": {
      "text/plain": [
       "248"
      ]
     },
     "execution_count": 10,
     "metadata": {},
     "output_type": "execute_result"
    }
   ],
   "source": [
    "len(products)"
   ]
  },
  {
   "cell_type": "markdown",
   "metadata": {},
   "source": [
    "Sommo le quantità relative ad un 'Item Name' e le aggiungo al dataFrame dei prodotti. Rappresento quindi la quantità totale di vendite dal 2015 al 2019 di ogni signolo prodotto."
   ]
  },
  {
   "cell_type": "code",
   "execution_count": 11,
   "metadata": {},
   "outputs": [
    {
     "data": {
      "text/html": [
       "<div>\n",
       "<style scoped>\n",
       "    .dataframe tbody tr th:only-of-type {\n",
       "        vertical-align: middle;\n",
       "    }\n",
       "\n",
       "    .dataframe tbody tr th {\n",
       "        vertical-align: top;\n",
       "    }\n",
       "\n",
       "    .dataframe thead th {\n",
       "        text-align: right;\n",
       "    }\n",
       "</style>\n",
       "<table border=\"1\" class=\"dataframe\">\n",
       "  <thead>\n",
       "    <tr style=\"text-align: right;\">\n",
       "      <th></th>\n",
       "      <th>Item Name</th>\n",
       "      <th>Product Price</th>\n",
       "      <th>Quantity</th>\n",
       "    </tr>\n",
       "  </thead>\n",
       "  <tbody>\n",
       "    <tr>\n",
       "      <th>0</th>\n",
       "      <td>Mint Sauce</td>\n",
       "      <td>0.5</td>\n",
       "      <td>1840.0</td>\n",
       "    </tr>\n",
       "    <tr>\n",
       "      <th>1</th>\n",
       "      <td>Lime Pickle</td>\n",
       "      <td>0.5</td>\n",
       "      <td>386.0</td>\n",
       "    </tr>\n",
       "    <tr>\n",
       "      <th>2</th>\n",
       "      <td>Mango Chutney</td>\n",
       "      <td>0.5</td>\n",
       "      <td>2504.0</td>\n",
       "    </tr>\n",
       "    <tr>\n",
       "      <th>3</th>\n",
       "      <td>Red Sauce</td>\n",
       "      <td>0.5</td>\n",
       "      <td>728.0</td>\n",
       "    </tr>\n",
       "    <tr>\n",
       "      <th>4</th>\n",
       "      <td>Onion Chutney</td>\n",
       "      <td>0.5</td>\n",
       "      <td>1291.0</td>\n",
       "    </tr>\n",
       "  </tbody>\n",
       "</table>\n",
       "</div>"
      ],
      "text/plain": [
       "       Item Name  Product Price  Quantity\n",
       "0     Mint Sauce            0.5    1840.0\n",
       "1    Lime Pickle            0.5     386.0\n",
       "2  Mango Chutney            0.5    2504.0\n",
       "3      Red Sauce            0.5     728.0\n",
       "4  Onion Chutney            0.5    1291.0"
      ]
     },
     "execution_count": 11,
     "metadata": {},
     "output_type": "execute_result"
    }
   ],
   "source": [
    "for i in products['Item Name']:\n",
    "    y = orders.loc[orders['Item Name'] == i, 'Quantity'].sum()\n",
    "    products.loc[products['Item Name'] == i, 'Quantity'] = y\n",
    "products.head()"
   ]
  },
  {
   "cell_type": "markdown",
   "metadata": {},
   "source": [
    "Aggiungo al dataFrame dei prodotti il guadagno totale per ogni prodotto."
   ]
  },
  {
   "cell_type": "code",
   "execution_count": 12,
   "metadata": {},
   "outputs": [
    {
     "data": {
      "text/html": [
       "<div>\n",
       "<style scoped>\n",
       "    .dataframe tbody tr th:only-of-type {\n",
       "        vertical-align: middle;\n",
       "    }\n",
       "\n",
       "    .dataframe tbody tr th {\n",
       "        vertical-align: top;\n",
       "    }\n",
       "\n",
       "    .dataframe thead th {\n",
       "        text-align: right;\n",
       "    }\n",
       "</style>\n",
       "<table border=\"1\" class=\"dataframe\">\n",
       "  <thead>\n",
       "    <tr style=\"text-align: right;\">\n",
       "      <th></th>\n",
       "      <th>Item Name</th>\n",
       "      <th>Product Price</th>\n",
       "      <th>Quantity</th>\n",
       "      <th>Earnings</th>\n",
       "    </tr>\n",
       "  </thead>\n",
       "  <tbody>\n",
       "    <tr>\n",
       "      <th>0</th>\n",
       "      <td>Mint Sauce</td>\n",
       "      <td>0.5</td>\n",
       "      <td>1840.0</td>\n",
       "      <td>920.0</td>\n",
       "    </tr>\n",
       "    <tr>\n",
       "      <th>1</th>\n",
       "      <td>Lime Pickle</td>\n",
       "      <td>0.5</td>\n",
       "      <td>386.0</td>\n",
       "      <td>193.0</td>\n",
       "    </tr>\n",
       "    <tr>\n",
       "      <th>2</th>\n",
       "      <td>Mango Chutney</td>\n",
       "      <td>0.5</td>\n",
       "      <td>2504.0</td>\n",
       "      <td>1252.0</td>\n",
       "    </tr>\n",
       "    <tr>\n",
       "      <th>3</th>\n",
       "      <td>Red Sauce</td>\n",
       "      <td>0.5</td>\n",
       "      <td>728.0</td>\n",
       "      <td>364.0</td>\n",
       "    </tr>\n",
       "    <tr>\n",
       "      <th>4</th>\n",
       "      <td>Onion Chutney</td>\n",
       "      <td>0.5</td>\n",
       "      <td>1291.0</td>\n",
       "      <td>645.5</td>\n",
       "    </tr>\n",
       "  </tbody>\n",
       "</table>\n",
       "</div>"
      ],
      "text/plain": [
       "       Item Name  Product Price  Quantity  Earnings\n",
       "0     Mint Sauce            0.5    1840.0     920.0\n",
       "1    Lime Pickle            0.5     386.0     193.0\n",
       "2  Mango Chutney            0.5    2504.0    1252.0\n",
       "3      Red Sauce            0.5     728.0     364.0\n",
       "4  Onion Chutney            0.5    1291.0     645.5"
      ]
     },
     "execution_count": 12,
     "metadata": {},
     "output_type": "execute_result"
    }
   ],
   "source": [
    "products['Earnings'] = products['Product Price'] * products['Quantity']\n",
    "products.head()"
   ]
  },
  {
   "cell_type": "code",
   "execution_count": 13,
   "metadata": {},
   "outputs": [
    {
     "data": {
      "text/html": [
       "<div>\n",
       "<style scoped>\n",
       "    .dataframe tbody tr th:only-of-type {\n",
       "        vertical-align: middle;\n",
       "    }\n",
       "\n",
       "    .dataframe tbody tr th {\n",
       "        vertical-align: top;\n",
       "    }\n",
       "\n",
       "    .dataframe thead th {\n",
       "        text-align: right;\n",
       "    }\n",
       "</style>\n",
       "<table border=\"1\" class=\"dataframe\">\n",
       "  <thead>\n",
       "    <tr style=\"text-align: right;\">\n",
       "      <th></th>\n",
       "      <th>Product Price</th>\n",
       "      <th>Earnings</th>\n",
       "    </tr>\n",
       "  </thead>\n",
       "  <tbody>\n",
       "    <tr>\n",
       "      <th>count</th>\n",
       "      <td>248.000000</td>\n",
       "      <td>248.000000</td>\n",
       "    </tr>\n",
       "    <tr>\n",
       "      <th>mean</th>\n",
       "      <td>7.981048</td>\n",
       "      <td>1794.590524</td>\n",
       "    </tr>\n",
       "    <tr>\n",
       "      <th>std</th>\n",
       "      <td>3.326234</td>\n",
       "      <td>2857.417340</td>\n",
       "    </tr>\n",
       "    <tr>\n",
       "      <th>min</th>\n",
       "      <td>0.500000</td>\n",
       "      <td>7.900000</td>\n",
       "    </tr>\n",
       "    <tr>\n",
       "      <th>25%</th>\n",
       "      <td>5.700000</td>\n",
       "      <td>340.525000</td>\n",
       "    </tr>\n",
       "    <tr>\n",
       "      <th>50%</th>\n",
       "      <td>8.950000</td>\n",
       "      <td>841.750000</td>\n",
       "    </tr>\n",
       "    <tr>\n",
       "      <th>75%</th>\n",
       "      <td>9.950000</td>\n",
       "      <td>1816.275000</td>\n",
       "    </tr>\n",
       "    <tr>\n",
       "      <th>max</th>\n",
       "      <td>17.950000</td>\n",
       "      <td>22133.350000</td>\n",
       "    </tr>\n",
       "  </tbody>\n",
       "</table>\n",
       "</div>"
      ],
      "text/plain": [
       "       Product Price      Earnings\n",
       "count     248.000000    248.000000\n",
       "mean        7.981048   1794.590524\n",
       "std         3.326234   2857.417340\n",
       "min         0.500000      7.900000\n",
       "25%         5.700000    340.525000\n",
       "50%         8.950000    841.750000\n",
       "75%         9.950000   1816.275000\n",
       "max        17.950000  22133.350000"
      ]
     },
     "execution_count": 13,
     "metadata": {},
     "output_type": "execute_result"
    }
   ],
   "source": [
    "products[['Product Price', 'Earnings']].describe()"
   ]
  },
  {
   "cell_type": "markdown",
   "metadata": {},
   "source": [
    "Ricerca sul prodotto più venduto."
   ]
  },
  {
   "cell_type": "code",
   "execution_count": 14,
   "metadata": {},
   "outputs": [
    {
     "data": {
      "text/html": [
       "<div>\n",
       "<style scoped>\n",
       "    .dataframe tbody tr th:only-of-type {\n",
       "        vertical-align: middle;\n",
       "    }\n",
       "\n",
       "    .dataframe tbody tr th {\n",
       "        vertical-align: top;\n",
       "    }\n",
       "\n",
       "    .dataframe thead th {\n",
       "        text-align: right;\n",
       "    }\n",
       "</style>\n",
       "<table border=\"1\" class=\"dataframe\">\n",
       "  <thead>\n",
       "    <tr style=\"text-align: right;\">\n",
       "      <th></th>\n",
       "      <th>Item Name</th>\n",
       "      <th>Product Price</th>\n",
       "      <th>Quantity</th>\n",
       "      <th>Earnings</th>\n",
       "    </tr>\n",
       "  </thead>\n",
       "  <tbody>\n",
       "    <tr>\n",
       "      <th>5</th>\n",
       "      <td>Plain Papadum</td>\n",
       "      <td>0.8</td>\n",
       "      <td>10648.0</td>\n",
       "      <td>8518.4</td>\n",
       "    </tr>\n",
       "  </tbody>\n",
       "</table>\n",
       "</div>"
      ],
      "text/plain": [
       "       Item Name  Product Price  Quantity  Earnings\n",
       "5  Plain Papadum            0.8   10648.0    8518.4"
      ]
     },
     "execution_count": 14,
     "metadata": {},
     "output_type": "execute_result"
    }
   ],
   "source": [
    "products[products['Quantity'] == products['Quantity'].max()]"
   ]
  },
  {
   "cell_type": "markdown",
   "metadata": {},
   "source": [
    "Ricerca sul prodotto meno venduto."
   ]
  },
  {
   "cell_type": "code",
   "execution_count": 15,
   "metadata": {},
   "outputs": [
    {
     "data": {
      "text/html": [
       "<div>\n",
       "<style scoped>\n",
       "    .dataframe tbody tr th:only-of-type {\n",
       "        vertical-align: middle;\n",
       "    }\n",
       "\n",
       "    .dataframe tbody tr th {\n",
       "        vertical-align: top;\n",
       "    }\n",
       "\n",
       "    .dataframe thead th {\n",
       "        text-align: right;\n",
       "    }\n",
       "</style>\n",
       "<table border=\"1\" class=\"dataframe\">\n",
       "  <thead>\n",
       "    <tr style=\"text-align: right;\">\n",
       "      <th></th>\n",
       "      <th>Item Name</th>\n",
       "      <th>Product Price</th>\n",
       "      <th>Quantity</th>\n",
       "      <th>Earnings</th>\n",
       "    </tr>\n",
       "  </thead>\n",
       "  <tbody>\n",
       "    <tr>\n",
       "      <th>88</th>\n",
       "      <td>Chicken Chaat Main</td>\n",
       "      <td>7.90</td>\n",
       "      <td>1.0</td>\n",
       "      <td>7.90</td>\n",
       "    </tr>\n",
       "    <tr>\n",
       "      <th>161</th>\n",
       "      <td>Tandoori Chicken</td>\n",
       "      <td>8.95</td>\n",
       "      <td>1.0</td>\n",
       "      <td>8.95</td>\n",
       "    </tr>\n",
       "    <tr>\n",
       "      <th>205</th>\n",
       "      <td>Mushroom - Prawn</td>\n",
       "      <td>9.95</td>\n",
       "      <td>1.0</td>\n",
       "      <td>9.95</td>\n",
       "    </tr>\n",
       "    <tr>\n",
       "      <th>215</th>\n",
       "      <td>Lamb Persian</td>\n",
       "      <td>10.95</td>\n",
       "      <td>1.0</td>\n",
       "      <td>10.95</td>\n",
       "    </tr>\n",
       "    <tr>\n",
       "      <th>245</th>\n",
       "      <td>Kurma</td>\n",
       "      <td>12.95</td>\n",
       "      <td>1.0</td>\n",
       "      <td>12.95</td>\n",
       "    </tr>\n",
       "  </tbody>\n",
       "</table>\n",
       "</div>"
      ],
      "text/plain": [
       "              Item Name  Product Price  Quantity  Earnings\n",
       "88   Chicken Chaat Main           7.90       1.0      7.90\n",
       "161    Tandoori Chicken           8.95       1.0      8.95\n",
       "205    Mushroom - Prawn           9.95       1.0      9.95\n",
       "215        Lamb Persian          10.95       1.0     10.95\n",
       "245               Kurma          12.95       1.0     12.95"
      ]
     },
     "execution_count": 15,
     "metadata": {},
     "output_type": "execute_result"
    }
   ],
   "source": [
    "products[products['Quantity'] == products['Quantity'].min()]"
   ]
  },
  {
   "cell_type": "markdown",
   "metadata": {},
   "source": [
    "Ricerca del prodotto che ha portato più guadagni."
   ]
  },
  {
   "cell_type": "code",
   "execution_count": 16,
   "metadata": {},
   "outputs": [
    {
     "data": {
      "text/html": [
       "<div>\n",
       "<style scoped>\n",
       "    .dataframe tbody tr th:only-of-type {\n",
       "        vertical-align: middle;\n",
       "    }\n",
       "\n",
       "    .dataframe tbody tr th {\n",
       "        vertical-align: top;\n",
       "    }\n",
       "\n",
       "    .dataframe thead th {\n",
       "        text-align: right;\n",
       "    }\n",
       "</style>\n",
       "<table border=\"1\" class=\"dataframe\">\n",
       "  <thead>\n",
       "    <tr style=\"text-align: right;\">\n",
       "      <th></th>\n",
       "      <th>Item Name</th>\n",
       "      <th>Product Price</th>\n",
       "      <th>Quantity</th>\n",
       "      <th>Earnings</th>\n",
       "    </tr>\n",
       "  </thead>\n",
       "  <tbody>\n",
       "    <tr>\n",
       "      <th>102</th>\n",
       "      <td>Chicken Tikka Masala</td>\n",
       "      <td>8.95</td>\n",
       "      <td>2473.0</td>\n",
       "      <td>22133.35</td>\n",
       "    </tr>\n",
       "  </tbody>\n",
       "</table>\n",
       "</div>"
      ],
      "text/plain": [
       "                Item Name  Product Price  Quantity  Earnings\n",
       "102  Chicken Tikka Masala           8.95    2473.0  22133.35"
      ]
     },
     "execution_count": 16,
     "metadata": {},
     "output_type": "execute_result"
    }
   ],
   "source": [
    "products[products['Earnings'] == products['Earnings'].max()]"
   ]
  },
  {
   "cell_type": "markdown",
   "metadata": {},
   "source": [
    "Ricerca del prodotto che ha portato meno guadagni."
   ]
  },
  {
   "cell_type": "code",
   "execution_count": 17,
   "metadata": {},
   "outputs": [
    {
     "data": {
      "text/html": [
       "<div>\n",
       "<style scoped>\n",
       "    .dataframe tbody tr th:only-of-type {\n",
       "        vertical-align: middle;\n",
       "    }\n",
       "\n",
       "    .dataframe tbody tr th {\n",
       "        vertical-align: top;\n",
       "    }\n",
       "\n",
       "    .dataframe thead th {\n",
       "        text-align: right;\n",
       "    }\n",
       "</style>\n",
       "<table border=\"1\" class=\"dataframe\">\n",
       "  <thead>\n",
       "    <tr style=\"text-align: right;\">\n",
       "      <th></th>\n",
       "      <th>Item Name</th>\n",
       "      <th>Product Price</th>\n",
       "      <th>Quantity</th>\n",
       "      <th>Earnings</th>\n",
       "    </tr>\n",
       "  </thead>\n",
       "  <tbody>\n",
       "    <tr>\n",
       "      <th>88</th>\n",
       "      <td>Chicken Chaat Main</td>\n",
       "      <td>7.9</td>\n",
       "      <td>1.0</td>\n",
       "      <td>7.9</td>\n",
       "    </tr>\n",
       "  </tbody>\n",
       "</table>\n",
       "</div>"
      ],
      "text/plain": [
       "             Item Name  Product Price  Quantity  Earnings\n",
       "88  Chicken Chaat Main            7.9       1.0       7.9"
      ]
     },
     "execution_count": 17,
     "metadata": {},
     "output_type": "execute_result"
    }
   ],
   "source": [
    "products[products['Earnings'] == products['Earnings'].min()]"
   ]
  },
  {
   "cell_type": "markdown",
   "metadata": {},
   "source": [
    "Grafico relativo alle vendite dei vari prodotti, rappresenta i guadagni totali per ogni prodotto. Si è in grado di capire a quale fascia di lusso appartiene il ristorante. Avendo maggiori guadagni nella prima fascia (bassa) di prezzi si potrebbe evincere che sia un ristrante economico."
   ]
  },
  {
   "cell_type": "code",
   "execution_count": 20,
   "metadata": {
    "scrolled": false
   },
   "outputs": [
    {
     "data": {
      "text/plain": [
       "<matplotlib.axes._subplots.AxesSubplot at 0x17d3426ec18>"
      ]
     },
     "execution_count": 20,
     "metadata": {},
     "output_type": "execute_result"
    },
    {
     "data": {
      "image/png": "[encoded data removed]",
      "text/plain": [
       "<Figure size 432x288 with 1 Axes>"
      ]
     },
     "metadata": {
      "needs_background": "light"
     },
     "output_type": "display_data"
    }
   ],
   "source": [
    "products[\"Earnings\"].plot.hist()"
   ]
  },
  {
   "cell_type": "markdown",
   "metadata": {},
   "source": [
    "Grafico relativo a quanti guadagni hanno portato prodotti a determinati prezzi."
   ]
  },
  {
   "cell_type": "code",
   "execution_count": 19,
   "metadata": {},
   "outputs": [
    {
     "data": {
      "text/plain": [
       "<matplotlib.axes._subplots.AxesSubplot at 0x17d342208d0>"
      ]
     },
     "execution_count": 19,
     "metadata": {},
     "output_type": "execute_result"
    },
    {
     "data": {
      "image/png": "[encoded data removed]",
      "text/plain": [
       "<Figure size 432x288 with 1 Axes>"
      ]
     },
     "metadata": {
      "needs_background": "light"
     },
     "output_type": "display_data"
    }
   ],
   "source": [
    "products.plot.scatter(\"Earnings\", \"Product Price\")"
   ]
  },
  {
   "cell_type": "markdown",
   "metadata": {},
   "source": [
    "Viene creato il data frame identificato da ogni ordine."
   ]
  },
  {
   "cell_type": "code",
   "execution_count": 18,
   "metadata": {},
   "outputs": [
    {
     "data": {
      "text/html": [
       "<div>\n",
       "<style scoped>\n",
       "    .dataframe tbody tr th:only-of-type {\n",
       "        vertical-align: middle;\n",
       "    }\n",
       "\n",
       "    .dataframe tbody tr th {\n",
       "        vertical-align: top;\n",
       "    }\n",
       "\n",
       "    .dataframe thead th {\n",
       "        text-align: right;\n",
       "    }\n",
       "</style>\n",
       "<table border=\"1\" class=\"dataframe\">\n",
       "  <thead>\n",
       "    <tr style=\"text-align: right;\">\n",
       "      <th></th>\n",
       "      <th></th>\n",
       "      <th>Quantity</th>\n",
       "      <th>Product Price</th>\n",
       "      <th>Earnings</th>\n",
       "    </tr>\n",
       "    <tr>\n",
       "      <th>Order Date</th>\n",
       "      <th>Item Name</th>\n",
       "      <th></th>\n",
       "      <th></th>\n",
       "      <th></th>\n",
       "    </tr>\n",
       "  </thead>\n",
       "  <tbody>\n",
       "    <tr>\n",
       "      <th rowspan=\"5\" valign=\"top\">2019-03-08</th>\n",
       "      <th>Plain Papadum</th>\n",
       "      <td>2</td>\n",
       "      <td>0.80</td>\n",
       "      <td>1.60</td>\n",
       "    </tr>\n",
       "    <tr>\n",
       "      <th>King Prawn Balti</th>\n",
       "      <td>1</td>\n",
       "      <td>12.95</td>\n",
       "      <td>12.95</td>\n",
       "    </tr>\n",
       "    <tr>\n",
       "      <th>Garlic Naan</th>\n",
       "      <td>1</td>\n",
       "      <td>2.95</td>\n",
       "      <td>2.95</td>\n",
       "    </tr>\n",
       "    <tr>\n",
       "      <th>Mushroom Rice</th>\n",
       "      <td>1</td>\n",
       "      <td>3.95</td>\n",
       "      <td>3.95</td>\n",
       "    </tr>\n",
       "    <tr>\n",
       "      <th>Paneer Tikka Masala</th>\n",
       "      <td>1</td>\n",
       "      <td>8.95</td>\n",
       "      <td>8.95</td>\n",
       "    </tr>\n",
       "  </tbody>\n",
       "</table>\n",
       "</div>"
      ],
      "text/plain": [
       "                                Quantity  Product Price  Earnings\n",
       "Order Date Item Name                                             \n",
       "2019-03-08 Plain Papadum               2           0.80      1.60\n",
       "           King Prawn Balti            1          12.95     12.95\n",
       "           Garlic Naan                 1           2.95      2.95\n",
       "           Mushroom Rice               1           3.95      3.95\n",
       "           Paneer Tikka Masala         1           8.95      8.95"
      ]
     },
     "execution_count": 18,
     "metadata": {},
     "output_type": "execute_result"
    }
   ],
   "source": [
    "dateFrame = orders\n",
    "dateFrame = dateFrame.reset_index()\n",
    "dateFrame = dateFrame.set_index(['Order Date', 'Item Name'])\n",
    "dateFrame = dateFrame.drop('index', 1)\n",
    "dateFrame = dateFrame.drop('Order Number', 1)\n",
    "dateFrame = dateFrame.drop('Total products', 1)\n",
    "dateFrame['Earnings'] = dateFrame['Quantity'] * dateFrame['Product Price']\n",
    "dateFrame.head()"
   ]
  },
  {
   "cell_type": "markdown",
   "metadata": {},
   "source": [
    "Colonna indicante quanto si è guadagnato in un determinato giorno."
   ]
  },
  {
   "cell_type": "code",
   "execution_count": 19,
   "metadata": {},
   "outputs": [],
   "source": [
    "dateFrame['TotEarnings'] = dateFrame.groupby(level=0)['Product Price'].transform('sum')"
   ]
  },
  {
   "cell_type": "markdown",
   "metadata": {},
   "source": [
    "Ordinamento effettuato in base alla data."
   ]
  },
  {
   "cell_type": "code",
   "execution_count": 20,
   "metadata": {},
   "outputs": [
    {
     "data": {
      "text/html": [
       "<div>\n",
       "<style scoped>\n",
       "    .dataframe tbody tr th:only-of-type {\n",
       "        vertical-align: middle;\n",
       "    }\n",
       "\n",
       "    .dataframe tbody tr th {\n",
       "        vertical-align: top;\n",
       "    }\n",
       "\n",
       "    .dataframe thead th {\n",
       "        text-align: right;\n",
       "    }\n",
       "</style>\n",
       "<table border=\"1\" class=\"dataframe\">\n",
       "  <thead>\n",
       "    <tr style=\"text-align: right;\">\n",
       "      <th></th>\n",
       "      <th></th>\n",
       "      <th>Quantity</th>\n",
       "      <th>Product Price</th>\n",
       "      <th>Earnings</th>\n",
       "      <th>TotEarnings</th>\n",
       "    </tr>\n",
       "    <tr>\n",
       "      <th>Order Date</th>\n",
       "      <th>Item Name</th>\n",
       "      <th></th>\n",
       "      <th></th>\n",
       "      <th></th>\n",
       "      <th></th>\n",
       "    </tr>\n",
       "  </thead>\n",
       "  <tbody>\n",
       "    <tr>\n",
       "      <th>2015-01-09</th>\n",
       "      <th>Onion Bhaji</th>\n",
       "      <td>1</td>\n",
       "      <td>3.95</td>\n",
       "      <td>3.95</td>\n",
       "      <td>3.95</td>\n",
       "    </tr>\n",
       "    <tr>\n",
       "      <th rowspan=\"4\" valign=\"top\">2015-01-10</th>\n",
       "      <th>Tandoori Fish</th>\n",
       "      <td>1</td>\n",
       "      <td>5.95</td>\n",
       "      <td>5.95</td>\n",
       "      <td>99.65</td>\n",
       "    </tr>\n",
       "    <tr>\n",
       "      <th>Tandoori Fish</th>\n",
       "      <td>1</td>\n",
       "      <td>5.95</td>\n",
       "      <td>5.95</td>\n",
       "      <td>99.65</td>\n",
       "    </tr>\n",
       "    <tr>\n",
       "      <th>Tandoori Chicken (1/4)</th>\n",
       "      <td>1</td>\n",
       "      <td>4.95</td>\n",
       "      <td>4.95</td>\n",
       "      <td>99.65</td>\n",
       "    </tr>\n",
       "    <tr>\n",
       "      <th>Sheek Kehab</th>\n",
       "      <td>2</td>\n",
       "      <td>5.95</td>\n",
       "      <td>11.90</td>\n",
       "      <td>99.65</td>\n",
       "    </tr>\n",
       "  </tbody>\n",
       "</table>\n",
       "</div>"
      ],
      "text/plain": [
       "                                   Quantity  Product Price  Earnings  \\\n",
       "Order Date Item Name                                                   \n",
       "2015-01-09 Onion Bhaji                    1           3.95      3.95   \n",
       "2015-01-10 Tandoori Fish                  1           5.95      5.95   \n",
       "           Tandoori Fish                  1           5.95      5.95   \n",
       "           Tandoori Chicken (1/4)         1           4.95      4.95   \n",
       "           Sheek Kehab                    2           5.95     11.90   \n",
       "\n",
       "                                   TotEarnings  \n",
       "Order Date Item Name                            \n",
       "2015-01-09 Onion Bhaji                    3.95  \n",
       "2015-01-10 Tandoori Fish                 99.65  \n",
       "           Tandoori Fish                 99.65  \n",
       "           Tandoori Chicken (1/4)        99.65  \n",
       "           Sheek Kehab                   99.65  "
      ]
     },
     "execution_count": 20,
     "metadata": {},
     "output_type": "execute_result"
    }
   ],
   "source": [
    "dateFrame.sort_values(by=['Order Date'], inplace=True, ascending=True)\n",
    "dateFrame.head()"
   ]
  },
  {
   "cell_type": "markdown",
   "metadata": {},
   "source": [
    "Ricerca delle vendite di un determinato prodotto."
   ]
  },
  {
   "cell_type": "code",
   "execution_count": 21,
   "metadata": {},
   "outputs": [
    {
     "data": {
      "text/html": [
       "<div>\n",
       "<style scoped>\n",
       "    .dataframe tbody tr th:only-of-type {\n",
       "        vertical-align: middle;\n",
       "    }\n",
       "\n",
       "    .dataframe tbody tr th {\n",
       "        vertical-align: top;\n",
       "    }\n",
       "\n",
       "    .dataframe thead th {\n",
       "        text-align: right;\n",
       "    }\n",
       "</style>\n",
       "<table border=\"1\" class=\"dataframe\">\n",
       "  <thead>\n",
       "    <tr style=\"text-align: right;\">\n",
       "      <th></th>\n",
       "      <th></th>\n",
       "      <th>Quantity</th>\n",
       "      <th>Product Price</th>\n",
       "      <th>Earnings</th>\n",
       "      <th>TotEarnings</th>\n",
       "    </tr>\n",
       "    <tr>\n",
       "      <th>Order Date</th>\n",
       "      <th>Item Name</th>\n",
       "      <th></th>\n",
       "      <th></th>\n",
       "      <th></th>\n",
       "      <th></th>\n",
       "    </tr>\n",
       "  </thead>\n",
       "  <tbody>\n",
       "    <tr>\n",
       "      <th>2015-01-10</th>\n",
       "      <th>Sheek Kehab</th>\n",
       "      <td>2</td>\n",
       "      <td>5.95</td>\n",
       "      <td>11.90</td>\n",
       "      <td>99.65</td>\n",
       "    </tr>\n",
       "    <tr>\n",
       "      <th>2016-03-17</th>\n",
       "      <th>Sheek Kehab</th>\n",
       "      <td>1</td>\n",
       "      <td>4.95</td>\n",
       "      <td>4.95</td>\n",
       "      <td>124.85</td>\n",
       "    </tr>\n",
       "    <tr>\n",
       "      <th rowspan=\"2\" valign=\"top\">2016-03-18</th>\n",
       "      <th>Sheek Kehab</th>\n",
       "      <td>1</td>\n",
       "      <td>4.95</td>\n",
       "      <td>4.95</td>\n",
       "      <td>648.75</td>\n",
       "    </tr>\n",
       "    <tr>\n",
       "      <th>Sheek Kehab</th>\n",
       "      <td>1</td>\n",
       "      <td>4.95</td>\n",
       "      <td>4.95</td>\n",
       "      <td>648.75</td>\n",
       "    </tr>\n",
       "    <tr>\n",
       "      <th>2016-03-19</th>\n",
       "      <th>Sheek Kehab</th>\n",
       "      <td>1</td>\n",
       "      <td>4.95</td>\n",
       "      <td>4.95</td>\n",
       "      <td>473.25</td>\n",
       "    </tr>\n",
       "  </tbody>\n",
       "</table>\n",
       "</div>"
      ],
      "text/plain": [
       "                        Quantity  Product Price  Earnings  TotEarnings\n",
       "Order Date Item Name                                                  \n",
       "2015-01-10 Sheek Kehab         2           5.95     11.90        99.65\n",
       "2016-03-17 Sheek Kehab         1           4.95      4.95       124.85\n",
       "2016-03-18 Sheek Kehab         1           4.95      4.95       648.75\n",
       "           Sheek Kehab         1           4.95      4.95       648.75\n",
       "2016-03-19 Sheek Kehab         1           4.95      4.95       473.25"
      ]
     },
     "execution_count": 21,
     "metadata": {},
     "output_type": "execute_result"
    }
   ],
   "source": [
    "All = slice(None)\n",
    "dateFrame.loc[(All,'Sheek Kehab'),All]"
   ]
  },
  {
   "cell_type": "markdown",
   "metadata": {},
   "source": [
    "Identificate data minore e maggiore dal nostro set di dati."
   ]
  },
  {
   "cell_type": "code",
   "execution_count": 22,
   "metadata": {},
   "outputs": [],
   "source": [
    "maxDate = dateFrame.index.get_level_values('Order Date').max()\n",
    "minDate = dateFrame.index.get_level_values('Order Date').min()\n",
    "minDate = minDate.year\n",
    "maxDate = maxDate.year"
   ]
  },
  {
   "cell_type": "code",
   "execution_count": 23,
   "metadata": {},
   "outputs": [
    {
     "data": {
      "text/html": [
       "<div>\n",
       "<style scoped>\n",
       "    .dataframe tbody tr th:only-of-type {\n",
       "        vertical-align: middle;\n",
       "    }\n",
       "\n",
       "    .dataframe tbody tr th {\n",
       "        vertical-align: top;\n",
       "    }\n",
       "\n",
       "    .dataframe thead th {\n",
       "        text-align: right;\n",
       "    }\n",
       "</style>\n",
       "<table border=\"1\" class=\"dataframe\">\n",
       "  <thead>\n",
       "    <tr style=\"text-align: right;\">\n",
       "      <th></th>\n",
       "      <th></th>\n",
       "      <th>Quantity</th>\n",
       "      <th>Product Price</th>\n",
       "      <th>Earnings</th>\n",
       "      <th>TotEarnings</th>\n",
       "    </tr>\n",
       "    <tr>\n",
       "      <th>Order Date</th>\n",
       "      <th>Item Name</th>\n",
       "      <th></th>\n",
       "      <th></th>\n",
       "      <th></th>\n",
       "      <th></th>\n",
       "    </tr>\n",
       "  </thead>\n",
       "  <tbody>\n",
       "    <tr>\n",
       "      <th>2015-01-09</th>\n",
       "      <th>Onion Bhaji</th>\n",
       "      <td>1</td>\n",
       "      <td>3.95</td>\n",
       "      <td>3.95</td>\n",
       "      <td>3.95</td>\n",
       "    </tr>\n",
       "    <tr>\n",
       "      <th rowspan=\"4\" valign=\"top\">2015-01-10</th>\n",
       "      <th>Tandoori Fish</th>\n",
       "      <td>1</td>\n",
       "      <td>5.95</td>\n",
       "      <td>5.95</td>\n",
       "      <td>99.65</td>\n",
       "    </tr>\n",
       "    <tr>\n",
       "      <th>Tandoori Fish</th>\n",
       "      <td>1</td>\n",
       "      <td>5.95</td>\n",
       "      <td>5.95</td>\n",
       "      <td>99.65</td>\n",
       "    </tr>\n",
       "    <tr>\n",
       "      <th>Tandoori Chicken (1/4)</th>\n",
       "      <td>1</td>\n",
       "      <td>4.95</td>\n",
       "      <td>4.95</td>\n",
       "      <td>99.65</td>\n",
       "    </tr>\n",
       "    <tr>\n",
       "      <th>Sheek Kehab</th>\n",
       "      <td>2</td>\n",
       "      <td>5.95</td>\n",
       "      <td>11.90</td>\n",
       "      <td>99.65</td>\n",
       "    </tr>\n",
       "  </tbody>\n",
       "</table>\n",
       "</div>"
      ],
      "text/plain": [
       "                                   Quantity  Product Price  Earnings  \\\n",
       "Order Date Item Name                                                   \n",
       "2015-01-09 Onion Bhaji                    1           3.95      3.95   \n",
       "2015-01-10 Tandoori Fish                  1           5.95      5.95   \n",
       "           Tandoori Fish                  1           5.95      5.95   \n",
       "           Tandoori Chicken (1/4)         1           4.95      4.95   \n",
       "           Sheek Kehab                    2           5.95     11.90   \n",
       "\n",
       "                                   TotEarnings  \n",
       "Order Date Item Name                            \n",
       "2015-01-09 Onion Bhaji                    3.95  \n",
       "2015-01-10 Tandoori Fish                 99.65  \n",
       "           Tandoori Fish                 99.65  \n",
       "           Tandoori Chicken (1/4)        99.65  \n",
       "           Sheek Kehab                   99.65  "
      ]
     },
     "execution_count": 23,
     "metadata": {},
     "output_type": "execute_result"
    }
   ],
   "source": [
    "dateindex = dateFrame.index.get_level_values('Order Date')\n",
    "dateindex = pd.DatetimeIndex(dateindex)\n",
    "dateFrame.loc[(dateindex.year == minDate)].head()"
   ]
  },
  {
   "cell_type": "markdown",
   "metadata": {},
   "source": [
    "Ricavi totali."
   ]
  },
  {
   "cell_type": "code",
   "execution_count": 24,
   "metadata": {},
   "outputs": [
    {
     "data": {
      "text/plain": [
       "446517.45"
      ]
     },
     "execution_count": 24,
     "metadata": {},
     "output_type": "execute_result"
    }
   ],
   "source": [
    "All = slice(None)\n",
    "dateFrame.loc[(All, All)].Earnings.sum()"
   ]
  },
  {
   "cell_type": "markdown",
   "metadata": {},
   "source": [
    "Raccoglimento dati da analizzare come: i ricavi totali per ogni anno, il totale delle quantità vendute ogni anno."
   ]
  },
  {
   "cell_type": "code",
   "execution_count": 25,
   "metadata": {},
   "outputs": [],
   "source": [
    "old = maxDate - minDate + 1\n",
    "totalArr = np.zeros(old)\n",
    "yearArr = np.zeros(old)\n",
    "maxEarnArr = np.zeros(old)\n",
    "minEarnArr = np.zeros(old)\n",
    "tmp = np.zeros(old*2)\n",
    "nameMaxArr = []\n",
    "nameMinArr = []\n",
    "quantityArr = np.zeros(old)\n",
    "count = 0\n",
    "\n",
    "for x in dateindex:\n",
    "    if x.year == (minDate + count):\n",
    "        \n",
    "        totalArr[count] = dateFrame.loc[(dateindex.year == (minDate + count))].Earnings.sum()\n",
    "        \n",
    "        quantityArr[count] = dateFrame.loc[(dateindex.year == (minDate + count))].Quantity.sum()\n",
    "        \n",
    "        maxEarnArr[count] = dateFrame.loc[(dateindex.year == (minDate + count))].Earnings.max()\n",
    "\n",
    "        c = dateFrame[dateFrame['Earnings'] == maxEarnArr[count]]\n",
    "        c.reset_index(inplace=True)\n",
    "        tmp = c['Item Name']\n",
    "        nameMaxArr.append(tmp[0])\n",
    "        \n",
    "        minEarnArr[count] = dateFrame.loc[(dateindex.year == (minDate + count))].Earnings.min()\n",
    "\n",
    "        c = dateFrame[dateFrame['Earnings'] == minEarnArr[count]]\n",
    "        c.reset_index(inplace=True)\n",
    "        tmp = c['Item Name']\n",
    "        nameMinArr.append(tmp[0])\n",
    "                \n",
    "        yearArr[count] = minDate + count\n",
    "        count+=1"
   ]
  },
  {
   "cell_type": "markdown",
   "metadata": {},
   "source": [
    "Guadagni totali per ogni fine anno di attività."
   ]
  },
  {
   "cell_type": "code",
   "execution_count": 26,
   "metadata": {},
   "outputs": [
    {
     "data": {
      "text/plain": [
       "[<matplotlib.lines.Line2D at 0x18421891a20>]"
      ]
     },
     "execution_count": 26,
     "metadata": {},
     "output_type": "execute_result"
    },
    {
     "data": {
      "image/png": "[encoded data removed]",
      "text/plain": [
       "<Figure size 432x288 with 1 Axes>"
      ]
     },
     "metadata": {
      "needs_background": "light"
     },
     "output_type": "display_data"
    }
   ],
   "source": [
    "plt.plot(yearArr, totalArr, \"ro-\")"
   ]
  },
  {
   "cell_type": "code",
   "execution_count": 27,
   "metadata": {},
   "outputs": [
    {
     "data": {
      "text/plain": [
       "<BarContainer object of 5 artists>"
      ]
     },
     "execution_count": 27,
     "metadata": {},
     "output_type": "execute_result"
    },
    {
     "data": {
      "image/png": "[encoded data removed]",
      "text/plain": [
       "<Figure size 432x288 with 1 Axes>"
      ]
     },
     "metadata": {
      "needs_background": "light"
     },
     "output_type": "display_data"
    }
   ],
   "source": [
    "plt.bar(yearArr, totalArr)"
   ]
  },
  {
   "cell_type": "markdown",
   "metadata": {},
   "source": [
    "Quantità totali vendute per ogni fine anno di attività."
   ]
  },
  {
   "cell_type": "code",
   "execution_count": 28,
   "metadata": {},
   "outputs": [
    {
     "data": {
      "text/plain": [
       "<BarContainer object of 5 artists>"
      ]
     },
     "execution_count": 28,
     "metadata": {},
     "output_type": "execute_result"
    },
    {
     "data": {
      "image/png": "[encoded data removed]",
      "text/plain": [
       "<Figure size 432x288 with 1 Axes>"
      ]
     },
     "metadata": {
      "needs_background": "light"
     },
     "output_type": "display_data"
    }
   ],
   "source": [
    "plt.bar(yearArr, quantityArr)"
   ]
  },
  {
   "cell_type": "markdown",
   "metadata": {},
   "source": [
    "Messe a confronto quantità e ricavi."
   ]
  },
  {
   "cell_type": "code",
   "execution_count": 29,
   "metadata": {
    "scrolled": true
   },
   "outputs": [
    {
     "data": {
      "text/plain": [
       "Text(0, 0.5, 'Earnings')"
      ]
     },
     "execution_count": 29,
     "metadata": {},
     "output_type": "execute_result"
    },
    {
     "data": {
      "image/png": "[encoded data removed]",
      "text/plain": [
       "<Figure size 432x288 with 1 Axes>"
      ]
     },
     "metadata": {
      "needs_background": "light"
     },
     "output_type": "display_data"
    }
   ],
   "source": [
    "plt.scatter(quantityArr, totalArr)\n",
    "plt.xlabel('quantity')\n",
    "plt.ylabel('Earnings')"
   ]
  },
  {
   "cell_type": "markdown",
   "metadata": {},
   "source": [
    "Per ogni anno scopro il massimo guadagno."
   ]
  },
  {
   "cell_type": "code",
   "execution_count": 30,
   "metadata": {},
   "outputs": [
    {
     "data": {
      "text/plain": [
       "Text(0, 0.5, 'Max Earning')"
      ]
     },
     "execution_count": 30,
     "metadata": {},
     "output_type": "execute_result"
    },
    {
     "data": {
      "image/png": "[encoded data removed]",
      "text/plain": [
       "<Figure size 432x288 with 1 Axes>"
      ]
     },
     "metadata": {
      "needs_background": "light"
     },
     "output_type": "display_data"
    }
   ],
   "source": [
    "plt.bar(yearArr, maxEarnArr)\n",
    "plt.xlabel('Year')\n",
    "plt.ylabel('Max Earning')"
   ]
  },
  {
   "cell_type": "code",
   "execution_count": 31,
   "metadata": {},
   "outputs": [
    {
     "data": {
      "text/plain": [
       "([<matplotlib.patches.Wedge at 0x18422c28f28>,\n",
       "  <matplotlib.patches.Wedge at 0x18422c314a8>,\n",
       "  <matplotlib.patches.Wedge at 0x18422c31978>,\n",
       "  <matplotlib.patches.Wedge at 0x18422c31e48>,\n",
       "  <matplotlib.patches.Wedge at 0x18422c39320>],\n",
       " [Text(1.097100450604639, 0.07981604652636345, 'Tandoori Fish'),\n",
       "  Text(1.0518225870368922, 0.32197708831377964, 'Butter Chicken'),\n",
       "  Text(0.4677132913413287, 0.9956125135325798, 'Korma'),\n",
       "  Text(-0.49097482400555775, 0.9843493903044344, 'House Red wine 75cl'),\n",
       "  Text(-0.47302317042462233, -0.9931007402280188, 'King Prawn Shaslick')])"
      ]
     },
     "execution_count": 31,
     "metadata": {},
     "output_type": "execute_result"
    },
    {
     "data": {
      "image/png": "[encoded data removed]",
      "text/plain": [
       "<Figure size 432x288 with 1 Axes>"
      ]
     },
     "metadata": {},
     "output_type": "display_data"
    }
   ],
   "source": [
    "plt.pie(maxEarnArr, labels=nameMaxArr)"
   ]
  },
  {
   "cell_type": "markdown",
   "metadata": {},
   "source": [
    "Per ogni anno il minimo guadagno."
   ]
  },
  {
   "cell_type": "code",
   "execution_count": 32,
   "metadata": {},
   "outputs": [
    {
     "data": {
      "text/plain": [
       "Text(0, 0.5, 'Min Earning')"
      ]
     },
     "execution_count": 32,
     "metadata": {},
     "output_type": "execute_result"
    },
    {
     "data": {
      "image/png": "[encoded data removed]",
      "text/plain": [
       "<Figure size 432x288 with 1 Axes>"
      ]
     },
     "metadata": {
      "needs_background": "light"
     },
     "output_type": "display_data"
    }
   ],
   "source": [
    "plt.bar(yearArr, minEarnArr)\n",
    "plt.xlabel('Year')\n",
    "plt.ylabel('Min Earning')"
   ]
  },
  {
   "cell_type": "code",
   "execution_count": 33,
   "metadata": {},
   "outputs": [
    {
     "data": {
      "text/plain": [
       "([<matplotlib.patches.Wedge at 0x18422cceda0>,\n",
       "  <matplotlib.patches.Wedge at 0x18422cd62e8>,\n",
       "  <matplotlib.patches.Wedge at 0x18422cd67b8>,\n",
       "  <matplotlib.patches.Wedge at 0x18422cd6c88>,\n",
       "  <matplotlib.patches.Wedge at 0x18422ce2160>],\n",
       " [Text(0.8899186877588753, 0.6465637858537406, 'Lime Pickle'),\n",
       "  Text(-0.3399187231970732, 1.046162158377023, 'Lime Pickle'),\n",
       "  Text(-1.0999999999999988, -5.149471622296949e-08, 'Lime Pickle'),\n",
       "  Text(-0.33991862524830174, -1.0461621902025062, 'Lime Pickle'),\n",
       "  Text(0.8899187482945414, -0.6465637025335375, 'Lime Pickle')])"
      ]
     },
     "execution_count": 33,
     "metadata": {},
     "output_type": "execute_result"
    },
    {
     "data": {
      "image/png": "[encoded data removed]",
      "text/plain": [
       "<Figure size 432x288 with 1 Axes>"
      ]
     },
     "metadata": {},
     "output_type": "display_data"
    }
   ],
   "source": [
    "plt.pie(minEarnArr, labels=nameMinArr)"
   ]
  },
  {
   "cell_type": "code",
   "execution_count": 34,
   "metadata": {},
   "outputs": [
    {
     "data": {
      "text/html": [
       "<div>\n",
       "<style scoped>\n",
       "    .dataframe tbody tr th:only-of-type {\n",
       "        vertical-align: middle;\n",
       "    }\n",
       "\n",
       "    .dataframe tbody tr th {\n",
       "        vertical-align: top;\n",
       "    }\n",
       "\n",
       "    .dataframe thead th {\n",
       "        text-align: right;\n",
       "    }\n",
       "</style>\n",
       "<table border=\"1\" class=\"dataframe\">\n",
       "  <thead>\n",
       "    <tr style=\"text-align: right;\">\n",
       "      <th></th>\n",
       "      <th>Order Date</th>\n",
       "      <th>Item Name</th>\n",
       "      <th>Quantity</th>\n",
       "      <th>Product Price</th>\n",
       "      <th>Earnings</th>\n",
       "      <th>TotEarnings</th>\n",
       "    </tr>\n",
       "  </thead>\n",
       "  <tbody>\n",
       "    <tr>\n",
       "      <th>0</th>\n",
       "      <td>2015-01-09</td>\n",
       "      <td>Onion Bhaji</td>\n",
       "      <td>1</td>\n",
       "      <td>3.95</td>\n",
       "      <td>3.95</td>\n",
       "      <td>3.95</td>\n",
       "    </tr>\n",
       "    <tr>\n",
       "      <th>1</th>\n",
       "      <td>2015-01-10</td>\n",
       "      <td>Tandoori Fish</td>\n",
       "      <td>1</td>\n",
       "      <td>5.95</td>\n",
       "      <td>5.95</td>\n",
       "      <td>99.65</td>\n",
       "    </tr>\n",
       "    <tr>\n",
       "      <th>2</th>\n",
       "      <td>2015-01-10</td>\n",
       "      <td>Tandoori Fish</td>\n",
       "      <td>1</td>\n",
       "      <td>5.95</td>\n",
       "      <td>5.95</td>\n",
       "      <td>99.65</td>\n",
       "    </tr>\n",
       "    <tr>\n",
       "      <th>3</th>\n",
       "      <td>2015-01-10</td>\n",
       "      <td>Tandoori Chicken (1/4)</td>\n",
       "      <td>1</td>\n",
       "      <td>4.95</td>\n",
       "      <td>4.95</td>\n",
       "      <td>99.65</td>\n",
       "    </tr>\n",
       "    <tr>\n",
       "      <th>4</th>\n",
       "      <td>2015-01-10</td>\n",
       "      <td>Sheek Kehab</td>\n",
       "      <td>2</td>\n",
       "      <td>5.95</td>\n",
       "      <td>11.90</td>\n",
       "      <td>99.65</td>\n",
       "    </tr>\n",
       "  </tbody>\n",
       "</table>\n",
       "</div>"
      ],
      "text/plain": [
       "  Order Date               Item Name  Quantity  Product Price  Earnings  \\\n",
       "0 2015-01-09             Onion Bhaji         1           3.95      3.95   \n",
       "1 2015-01-10           Tandoori Fish         1           5.95      5.95   \n",
       "2 2015-01-10           Tandoori Fish         1           5.95      5.95   \n",
       "3 2015-01-10  Tandoori Chicken (1/4)         1           4.95      4.95   \n",
       "4 2015-01-10             Sheek Kehab         2           5.95     11.90   \n",
       "\n",
       "   TotEarnings  \n",
       "0         3.95  \n",
       "1        99.65  \n",
       "2        99.65  \n",
       "3        99.65  \n",
       "4        99.65  "
      ]
     },
     "execution_count": 34,
     "metadata": {},
     "output_type": "execute_result"
    }
   ],
   "source": [
    "dateFrame.reset_index(inplace=True)\n",
    "dateFrame.head()"
   ]
  },
  {
   "cell_type": "markdown",
   "metadata": {},
   "source": [
    "Normalizzazione nome prodotti."
   ]
  },
  {
   "cell_type": "code",
   "execution_count": 35,
   "metadata": {},
   "outputs": [],
   "source": [
    "valArr = np.zeros(len(dateFrame))\n",
    "valArrProd = np.zeros(len(products))\n",
    "dateFrame.sort_values(by=['Item Name'], inplace=True, ascending=True)\n",
    "products.sort_values(by=['Item Name'], inplace=True, ascending=True)\n",
    "a = dateFrame['Item Name']\n",
    "a = a.unique()\n",
    "count = 0\n",
    "c = 0\n",
    "\n",
    "valArrProd[count] = 0\n",
    "for i in dateFrame['Item Name']:\n",
    "    if a[count] != i:\n",
    "        count+=1\n",
    "        valArrProd[count] = count\n",
    "    valArr[c] = count\n",
    "    c+=1\n",
    "dateFrame['valueItem'] = valArr\n",
    "products['valueItem'] = valArrProd"
   ]
  },
  {
   "cell_type": "code",
   "execution_count": 36,
   "metadata": {
    "scrolled": true
   },
   "outputs": [
    {
     "data": {
      "text/html": [
       "<div>\n",
       "<style scoped>\n",
       "    .dataframe tbody tr th:only-of-type {\n",
       "        vertical-align: middle;\n",
       "    }\n",
       "\n",
       "    .dataframe tbody tr th {\n",
       "        vertical-align: top;\n",
       "    }\n",
       "\n",
       "    .dataframe thead th {\n",
       "        text-align: right;\n",
       "    }\n",
       "</style>\n",
       "<table border=\"1\" class=\"dataframe\">\n",
       "  <thead>\n",
       "    <tr style=\"text-align: right;\">\n",
       "      <th></th>\n",
       "      <th>index</th>\n",
       "      <th>Order Date</th>\n",
       "      <th>Item Name</th>\n",
       "      <th>Quantity</th>\n",
       "      <th>Product Price</th>\n",
       "      <th>Earnings</th>\n",
       "      <th>TotEarnings</th>\n",
       "      <th>valueItem</th>\n",
       "    </tr>\n",
       "  </thead>\n",
       "  <tbody>\n",
       "    <tr>\n",
       "      <th>0</th>\n",
       "      <td>0</td>\n",
       "      <td>2015-01-09</td>\n",
       "      <td>Onion Bhaji</td>\n",
       "      <td>1</td>\n",
       "      <td>3.95</td>\n",
       "      <td>3.95</td>\n",
       "      <td>3.95</td>\n",
       "      <td>166.0</td>\n",
       "    </tr>\n",
       "    <tr>\n",
       "      <th>1</th>\n",
       "      <td>15</td>\n",
       "      <td>2015-01-10</td>\n",
       "      <td>Onion Chutney</td>\n",
       "      <td>1</td>\n",
       "      <td>0.50</td>\n",
       "      <td>0.50</td>\n",
       "      <td>99.65</td>\n",
       "      <td>167.0</td>\n",
       "    </tr>\n",
       "    <tr>\n",
       "      <th>2</th>\n",
       "      <td>6</td>\n",
       "      <td>2015-01-10</td>\n",
       "      <td>Vegetable Samosa</td>\n",
       "      <td>1</td>\n",
       "      <td>4.95</td>\n",
       "      <td>4.95</td>\n",
       "      <td>99.65</td>\n",
       "      <td>240.0</td>\n",
       "    </tr>\n",
       "    <tr>\n",
       "      <th>3</th>\n",
       "      <td>7</td>\n",
       "      <td>2015-01-10</td>\n",
       "      <td>Vegetable Samosa</td>\n",
       "      <td>1</td>\n",
       "      <td>4.95</td>\n",
       "      <td>4.95</td>\n",
       "      <td>99.65</td>\n",
       "      <td>240.0</td>\n",
       "    </tr>\n",
       "    <tr>\n",
       "      <th>4</th>\n",
       "      <td>17</td>\n",
       "      <td>2015-01-10</td>\n",
       "      <td>Paratha</td>\n",
       "      <td>1</td>\n",
       "      <td>2.95</td>\n",
       "      <td>2.95</td>\n",
       "      <td>99.65</td>\n",
       "      <td>175.0</td>\n",
       "    </tr>\n",
       "  </tbody>\n",
       "</table>\n",
       "</div>"
      ],
      "text/plain": [
       "   index Order Date         Item Name  Quantity  Product Price  Earnings  \\\n",
       "0      0 2015-01-09       Onion Bhaji         1           3.95      3.95   \n",
       "1     15 2015-01-10     Onion Chutney         1           0.50      0.50   \n",
       "2      6 2015-01-10  Vegetable Samosa         1           4.95      4.95   \n",
       "3      7 2015-01-10  Vegetable Samosa         1           4.95      4.95   \n",
       "4     17 2015-01-10           Paratha         1           2.95      2.95   \n",
       "\n",
       "   TotEarnings  valueItem  \n",
       "0         3.95      166.0  \n",
       "1        99.65      167.0  \n",
       "2        99.65      240.0  \n",
       "3        99.65      240.0  \n",
       "4        99.65      175.0  "
      ]
     },
     "execution_count": 36,
     "metadata": {},
     "output_type": "execute_result"
    }
   ],
   "source": [
    "dateFrame.sort_values(by=['Order Date'], inplace=True, ascending=True)\n",
    "dateFrame.reset_index(inplace=True)\n",
    "dateFrame.head()"
   ]
  },
  {
   "cell_type": "markdown",
   "metadata": {},
   "source": [
    "Dal dataFrame selezioniamo tutte le date e tramite esse si trova qual'è il relativo giorno da aggiungere in una nuova colonna contenente i giorni settimanali. Grazie a questo passaggio si può iniziare uno studio basato sui singoli giorni settimanali."
   ]
  },
  {
   "cell_type": "code",
   "execution_count": 37,
   "metadata": {},
   "outputs": [
    {
     "name": "stderr",
     "output_type": "stream",
     "text": [
      "C:\\Users\\Tommi\\Anaconda3\\lib\\site-packages\\ipykernel_launcher.py:4: FutureWarning: `weekday_name` is deprecated and will be removed in a future version. Use `day_name` instead\n",
      "  after removing the cwd from sys.path.\n"
     ]
    }
   ],
   "source": [
    "dayArr = []\n",
    "for i in dateFrame['Order Date']:\n",
    "    df = pd.Timestamp(i)\n",
    "    dayArr.append(df.weekday_name)\n",
    "dateFrame['dayName'] = dayArr"
   ]
  },
  {
   "cell_type": "code",
   "execution_count": 38,
   "metadata": {},
   "outputs": [
    {
     "data": {
      "text/html": [
       "<div>\n",
       "<style scoped>\n",
       "    .dataframe tbody tr th:only-of-type {\n",
       "        vertical-align: middle;\n",
       "    }\n",
       "\n",
       "    .dataframe tbody tr th {\n",
       "        vertical-align: top;\n",
       "    }\n",
       "\n",
       "    .dataframe thead th {\n",
       "        text-align: right;\n",
       "    }\n",
       "</style>\n",
       "<table border=\"1\" class=\"dataframe\">\n",
       "  <thead>\n",
       "    <tr style=\"text-align: right;\">\n",
       "      <th></th>\n",
       "      <th>index</th>\n",
       "      <th>Order Date</th>\n",
       "      <th>Item Name</th>\n",
       "      <th>Quantity</th>\n",
       "      <th>Product Price</th>\n",
       "      <th>Earnings</th>\n",
       "      <th>TotEarnings</th>\n",
       "      <th>valueItem</th>\n",
       "      <th>dayName</th>\n",
       "    </tr>\n",
       "  </thead>\n",
       "  <tbody>\n",
       "    <tr>\n",
       "      <th>0</th>\n",
       "      <td>0</td>\n",
       "      <td>2015-01-09</td>\n",
       "      <td>Onion Bhaji</td>\n",
       "      <td>1</td>\n",
       "      <td>3.95</td>\n",
       "      <td>3.95</td>\n",
       "      <td>3.95</td>\n",
       "      <td>166.0</td>\n",
       "      <td>Friday</td>\n",
       "    </tr>\n",
       "    <tr>\n",
       "      <th>1</th>\n",
       "      <td>15</td>\n",
       "      <td>2015-01-10</td>\n",
       "      <td>Onion Chutney</td>\n",
       "      <td>1</td>\n",
       "      <td>0.50</td>\n",
       "      <td>0.50</td>\n",
       "      <td>99.65</td>\n",
       "      <td>167.0</td>\n",
       "      <td>Saturday</td>\n",
       "    </tr>\n",
       "    <tr>\n",
       "      <th>2</th>\n",
       "      <td>6</td>\n",
       "      <td>2015-01-10</td>\n",
       "      <td>Vegetable Samosa</td>\n",
       "      <td>1</td>\n",
       "      <td>4.95</td>\n",
       "      <td>4.95</td>\n",
       "      <td>99.65</td>\n",
       "      <td>240.0</td>\n",
       "      <td>Saturday</td>\n",
       "    </tr>\n",
       "    <tr>\n",
       "      <th>3</th>\n",
       "      <td>7</td>\n",
       "      <td>2015-01-10</td>\n",
       "      <td>Vegetable Samosa</td>\n",
       "      <td>1</td>\n",
       "      <td>4.95</td>\n",
       "      <td>4.95</td>\n",
       "      <td>99.65</td>\n",
       "      <td>240.0</td>\n",
       "      <td>Saturday</td>\n",
       "    </tr>\n",
       "    <tr>\n",
       "      <th>4</th>\n",
       "      <td>17</td>\n",
       "      <td>2015-01-10</td>\n",
       "      <td>Paratha</td>\n",
       "      <td>1</td>\n",
       "      <td>2.95</td>\n",
       "      <td>2.95</td>\n",
       "      <td>99.65</td>\n",
       "      <td>175.0</td>\n",
       "      <td>Saturday</td>\n",
       "    </tr>\n",
       "  </tbody>\n",
       "</table>\n",
       "</div>"
      ],
      "text/plain": [
       "   index Order Date         Item Name  Quantity  Product Price  Earnings  \\\n",
       "0      0 2015-01-09       Onion Bhaji         1           3.95      3.95   \n",
       "1     15 2015-01-10     Onion Chutney         1           0.50      0.50   \n",
       "2      6 2015-01-10  Vegetable Samosa         1           4.95      4.95   \n",
       "3      7 2015-01-10  Vegetable Samosa         1           4.95      4.95   \n",
       "4     17 2015-01-10           Paratha         1           2.95      2.95   \n",
       "\n",
       "   TotEarnings  valueItem   dayName  \n",
       "0         3.95      166.0    Friday  \n",
       "1        99.65      167.0  Saturday  \n",
       "2        99.65      240.0  Saturday  \n",
       "3        99.65      240.0  Saturday  \n",
       "4        99.65      175.0  Saturday  "
      ]
     },
     "execution_count": 38,
     "metadata": {},
     "output_type": "execute_result"
    }
   ],
   "source": [
    "dateFrame.head()"
   ]
  },
  {
   "cell_type": "markdown",
   "metadata": {},
   "source": [
    "Viene preso in esempio un solo giorno della settimana per compiere i necessari studi, in questo caso il Sabato."
   ]
  },
  {
   "cell_type": "code",
   "execution_count": 39,
   "metadata": {},
   "outputs": [],
   "source": [
    "Saturday = dateFrame.loc[dateFrame['dayName'] =='Saturday']"
   ]
  },
  {
   "cell_type": "markdown",
   "metadata": {},
   "source": [
    "Quantità più alta venduta di sabato."
   ]
  },
  {
   "cell_type": "code",
   "execution_count": 40,
   "metadata": {},
   "outputs": [
    {
     "data": {
      "text/html": [
       "<div>\n",
       "<style scoped>\n",
       "    .dataframe tbody tr th:only-of-type {\n",
       "        vertical-align: middle;\n",
       "    }\n",
       "\n",
       "    .dataframe tbody tr th {\n",
       "        vertical-align: top;\n",
       "    }\n",
       "\n",
       "    .dataframe thead th {\n",
       "        text-align: right;\n",
       "    }\n",
       "</style>\n",
       "<table border=\"1\" class=\"dataframe\">\n",
       "  <thead>\n",
       "    <tr style=\"text-align: right;\">\n",
       "      <th></th>\n",
       "      <th>index</th>\n",
       "      <th>Order Date</th>\n",
       "      <th>Item Name</th>\n",
       "      <th>Quantity</th>\n",
       "      <th>Product Price</th>\n",
       "      <th>Earnings</th>\n",
       "      <th>TotEarnings</th>\n",
       "      <th>valueItem</th>\n",
       "      <th>dayName</th>\n",
       "    </tr>\n",
       "  </thead>\n",
       "  <tbody>\n",
       "    <tr>\n",
       "      <th>20217</th>\n",
       "      <td>20221</td>\n",
       "      <td>2017-06-24</td>\n",
       "      <td>Plain Papadum</td>\n",
       "      <td>13</td>\n",
       "      <td>0.8</td>\n",
       "      <td>10.4</td>\n",
       "      <td>483.35</td>\n",
       "      <td>188.0</td>\n",
       "      <td>Saturday</td>\n",
       "    </tr>\n",
       "  </tbody>\n",
       "</table>\n",
       "</div>"
      ],
      "text/plain": [
       "       index Order Date      Item Name  Quantity  Product Price  Earnings  \\\n",
       "20217  20221 2017-06-24  Plain Papadum        13            0.8      10.4   \n",
       "\n",
       "       TotEarnings  valueItem   dayName  \n",
       "20217       483.35      188.0  Saturday  "
      ]
     },
     "execution_count": 40,
     "metadata": {},
     "output_type": "execute_result"
    }
   ],
   "source": [
    "Saturday.loc[Saturday['Quantity'] == Saturday['Quantity'].max()]"
   ]
  },
  {
   "cell_type": "markdown",
   "metadata": {},
   "source": [
    "E' preso come riferimento un unico giorno della settimana, in questo caso il sabato."
   ]
  },
  {
   "cell_type": "code",
   "execution_count": 41,
   "metadata": {},
   "outputs": [],
   "source": [
    "itemName = Saturday['Item Name'].loc[Saturday['Quantity'] == Saturday['Quantity'].max()].values[0]"
   ]
  },
  {
   "cell_type": "markdown",
   "metadata": {},
   "source": [
    "Preso come riferimento un unico piatto dal menù, lo studio verrà eseguito su di esso."
   ]
  },
  {
   "cell_type": "code",
   "execution_count": 42,
   "metadata": {},
   "outputs": [],
   "source": [
    "ResearchFrame = Saturday.loc[Saturday['Item Name'] == itemName]\n",
    "itemValue = ResearchFrame['valueItem'].unique()"
   ]
  },
  {
   "cell_type": "markdown",
   "metadata": {},
   "source": [
    "Salvata in variabile la data di inizio e di fine registrata per il prodotto preso in studio."
   ]
  },
  {
   "cell_type": "code",
   "execution_count": 43,
   "metadata": {},
   "outputs": [],
   "source": [
    "startDate = ResearchFrame['Order Date'].loc[ResearchFrame['Order Date'] == ResearchFrame['Order Date'].min()].unique()\n",
    "endDate = ResearchFrame['Order Date'].loc[ResearchFrame['Order Date'] == ResearchFrame['Order Date'].max()].unique()"
   ]
  },
  {
   "cell_type": "code",
   "execution_count": 44,
   "metadata": {},
   "outputs": [
    {
     "data": {
      "text/plain": [
       "DatetimeIndex(['2016-01-09'], dtype='datetime64[ns]', freq=None)"
      ]
     },
     "execution_count": 44,
     "metadata": {},
     "output_type": "execute_result"
    }
   ],
   "source": [
    "startDate =  pd.to_datetime(startDate)\n",
    "endDate = pd.to_datetime(endDate)\n",
    "startDate"
   ]
  },
  {
   "cell_type": "markdown",
   "metadata": {},
   "source": [
    "Obiettivo di questo codice è l'aggiunta delle giornate, tra startDate e endDate, in cui il prodotto selezionato non è stato venduto. Si ceerca quindi di inserire nel dataframe la quantità 0 nelle giornate senza vendita. Questo passaggio serve per avere un più realistico studio del prodotto in quanto non è trascurabile per il nostro fine la conoscenza di questo dato."
   ]
  },
  {
   "cell_type": "markdown",
   "metadata": {},
   "source": [
    "Creazione di un nuovo dataframe in cui sono presenti tutti i sabati da startDate a endDate, hai quali viene assegnata quantità 0."
   ]
  },
  {
   "cell_type": "code",
   "execution_count": 45,
   "metadata": {},
   "outputs": [],
   "source": [
    "zeroFrame = pd.DataFrame(columns = ['Order Date', 'Quantity'])\n",
    "while startDate < endDate:\n",
    "    zeroFrame = zeroFrame.append([{'Order Date': startDate[0], 'Quantity': 0}])\n",
    "    startDate += datetime.timedelta(days=7)\n"
   ]
  },
  {
   "cell_type": "code",
   "execution_count": 46,
   "metadata": {},
   "outputs": [
    {
     "data": {
      "text/html": [
       "<div>\n",
       "<style scoped>\n",
       "    .dataframe tbody tr th:only-of-type {\n",
       "        vertical-align: middle;\n",
       "    }\n",
       "\n",
       "    .dataframe tbody tr th {\n",
       "        vertical-align: top;\n",
       "    }\n",
       "\n",
       "    .dataframe thead th {\n",
       "        text-align: right;\n",
       "    }\n",
       "</style>\n",
       "<table border=\"1\" class=\"dataframe\">\n",
       "  <thead>\n",
       "    <tr style=\"text-align: right;\">\n",
       "      <th></th>\n",
       "      <th>Order Date</th>\n",
       "      <th>Quantity</th>\n",
       "    </tr>\n",
       "  </thead>\n",
       "  <tbody>\n",
       "    <tr>\n",
       "      <th>0</th>\n",
       "      <td>2016-01-09</td>\n",
       "      <td>0</td>\n",
       "    </tr>\n",
       "    <tr>\n",
       "      <th>0</th>\n",
       "      <td>2016-01-16</td>\n",
       "      <td>0</td>\n",
       "    </tr>\n",
       "    <tr>\n",
       "      <th>0</th>\n",
       "      <td>2016-01-23</td>\n",
       "      <td>0</td>\n",
       "    </tr>\n",
       "    <tr>\n",
       "      <th>0</th>\n",
       "      <td>2016-01-30</td>\n",
       "      <td>0</td>\n",
       "    </tr>\n",
       "    <tr>\n",
       "      <th>0</th>\n",
       "      <td>2016-02-06</td>\n",
       "      <td>0</td>\n",
       "    </tr>\n",
       "  </tbody>\n",
       "</table>\n",
       "</div>"
      ],
      "text/plain": [
       "  Order Date Quantity\n",
       "0 2016-01-09        0\n",
       "0 2016-01-16        0\n",
       "0 2016-01-23        0\n",
       "0 2016-01-30        0\n",
       "0 2016-02-06        0"
      ]
     },
     "execution_count": 46,
     "metadata": {},
     "output_type": "execute_result"
    }
   ],
   "source": [
    "zeroFrame.head()"
   ]
  },
  {
   "cell_type": "code",
   "execution_count": 47,
   "metadata": {},
   "outputs": [],
   "source": [
    "ResearchFrame = ResearchFrame.reset_index()\n",
    "zeroFrame = zeroFrame.reset_index()"
   ]
  },
  {
   "cell_type": "markdown",
   "metadata": {},
   "source": [
    "Merge tra i due dataframe. In questo modo ottieniamo un dataframe contenente tutti i dati relativi ai due dataframe. Si è cosi in grado di eliminare i giorni che manifestano quantità vendute uguale a 0 quando in realtà hanno una vendita maggiore."
   ]
  },
  {
   "cell_type": "code",
   "execution_count": 48,
   "metadata": {},
   "outputs": [],
   "source": [
    "result = pd.merge(zeroFrame,ResearchFrame, how='left', on=['Order Date'])"
   ]
  },
  {
   "cell_type": "code",
   "execution_count": 49,
   "metadata": {},
   "outputs": [
    {
     "data": {
      "text/html": [
       "<div>\n",
       "<style scoped>\n",
       "    .dataframe tbody tr th:only-of-type {\n",
       "        vertical-align: middle;\n",
       "    }\n",
       "\n",
       "    .dataframe tbody tr th {\n",
       "        vertical-align: top;\n",
       "    }\n",
       "\n",
       "    .dataframe thead th {\n",
       "        text-align: right;\n",
       "    }\n",
       "</style>\n",
       "<table border=\"1\" class=\"dataframe\">\n",
       "  <thead>\n",
       "    <tr style=\"text-align: right;\">\n",
       "      <th></th>\n",
       "      <th>index_x</th>\n",
       "      <th>Order Date</th>\n",
       "      <th>Quantity_x</th>\n",
       "      <th>level_0</th>\n",
       "      <th>index_y</th>\n",
       "      <th>Item Name</th>\n",
       "      <th>Quantity_y</th>\n",
       "      <th>Product Price</th>\n",
       "      <th>Earnings</th>\n",
       "      <th>TotEarnings</th>\n",
       "      <th>valueItem</th>\n",
       "      <th>dayName</th>\n",
       "    </tr>\n",
       "  </thead>\n",
       "  <tbody>\n",
       "    <tr>\n",
       "      <th>0</th>\n",
       "      <td>0</td>\n",
       "      <td>2016-01-09</td>\n",
       "      <td>0</td>\n",
       "      <td>194.0</td>\n",
       "      <td>190.0</td>\n",
       "      <td>Plain Papadum</td>\n",
       "      <td>4.0</td>\n",
       "      <td>0.8</td>\n",
       "      <td>3.2</td>\n",
       "      <td>84.30</td>\n",
       "      <td>188.0</td>\n",
       "      <td>Saturday</td>\n",
       "    </tr>\n",
       "    <tr>\n",
       "      <th>1</th>\n",
       "      <td>0</td>\n",
       "      <td>2016-01-16</td>\n",
       "      <td>0</td>\n",
       "      <td>NaN</td>\n",
       "      <td>NaN</td>\n",
       "      <td>NaN</td>\n",
       "      <td>NaN</td>\n",
       "      <td>NaN</td>\n",
       "      <td>NaN</td>\n",
       "      <td>NaN</td>\n",
       "      <td>NaN</td>\n",
       "      <td>NaN</td>\n",
       "    </tr>\n",
       "    <tr>\n",
       "      <th>2</th>\n",
       "      <td>0</td>\n",
       "      <td>2016-01-23</td>\n",
       "      <td>0</td>\n",
       "      <td>NaN</td>\n",
       "      <td>NaN</td>\n",
       "      <td>NaN</td>\n",
       "      <td>NaN</td>\n",
       "      <td>NaN</td>\n",
       "      <td>NaN</td>\n",
       "      <td>NaN</td>\n",
       "      <td>NaN</td>\n",
       "      <td>NaN</td>\n",
       "    </tr>\n",
       "    <tr>\n",
       "      <th>3</th>\n",
       "      <td>0</td>\n",
       "      <td>2016-01-30</td>\n",
       "      <td>0</td>\n",
       "      <td>NaN</td>\n",
       "      <td>NaN</td>\n",
       "      <td>NaN</td>\n",
       "      <td>NaN</td>\n",
       "      <td>NaN</td>\n",
       "      <td>NaN</td>\n",
       "      <td>NaN</td>\n",
       "      <td>NaN</td>\n",
       "      <td>NaN</td>\n",
       "    </tr>\n",
       "    <tr>\n",
       "      <th>4</th>\n",
       "      <td>0</td>\n",
       "      <td>2016-02-06</td>\n",
       "      <td>0</td>\n",
       "      <td>560.0</td>\n",
       "      <td>570.0</td>\n",
       "      <td>Plain Papadum</td>\n",
       "      <td>2.0</td>\n",
       "      <td>0.8</td>\n",
       "      <td>1.6</td>\n",
       "      <td>150.95</td>\n",
       "      <td>188.0</td>\n",
       "      <td>Saturday</td>\n",
       "    </tr>\n",
       "  </tbody>\n",
       "</table>\n",
       "</div>"
      ],
      "text/plain": [
       "   index_x Order Date Quantity_x  level_0  index_y      Item Name  Quantity_y  \\\n",
       "0        0 2016-01-09          0    194.0    190.0  Plain Papadum         4.0   \n",
       "1        0 2016-01-16          0      NaN      NaN            NaN         NaN   \n",
       "2        0 2016-01-23          0      NaN      NaN            NaN         NaN   \n",
       "3        0 2016-01-30          0      NaN      NaN            NaN         NaN   \n",
       "4        0 2016-02-06          0    560.0    570.0  Plain Papadum         2.0   \n",
       "\n",
       "   Product Price  Earnings  TotEarnings  valueItem   dayName  \n",
       "0            0.8       3.2        84.30      188.0  Saturday  \n",
       "1            NaN       NaN          NaN        NaN       NaN  \n",
       "2            NaN       NaN          NaN        NaN       NaN  \n",
       "3            NaN       NaN          NaN        NaN       NaN  \n",
       "4            0.8       1.6       150.95      188.0  Saturday  "
      ]
     },
     "execution_count": 49,
     "metadata": {},
     "output_type": "execute_result"
    }
   ],
   "source": [
    "result.sort_values(by=['Order Date'], ascending=True).head()"
   ]
  },
  {
   "cell_type": "markdown",
   "metadata": {},
   "source": [
    "Eliminazione dei dati sbagliati. Ottenimento del giusto storico delle vendite del prodotto selezionato nella giornata di sabato."
   ]
  },
  {
   "cell_type": "code",
   "execution_count": 50,
   "metadata": {},
   "outputs": [
    {
     "data": {
      "text/html": [
       "<div>\n",
       "<style scoped>\n",
       "    .dataframe tbody tr th:only-of-type {\n",
       "        vertical-align: middle;\n",
       "    }\n",
       "\n",
       "    .dataframe tbody tr th {\n",
       "        vertical-align: top;\n",
       "    }\n",
       "\n",
       "    .dataframe thead th {\n",
       "        text-align: right;\n",
       "    }\n",
       "</style>\n",
       "<table border=\"1\" class=\"dataframe\">\n",
       "  <thead>\n",
       "    <tr style=\"text-align: right;\">\n",
       "      <th></th>\n",
       "      <th>Order Date</th>\n",
       "      <th>Item Name</th>\n",
       "      <th>Quantity_y</th>\n",
       "    </tr>\n",
       "  </thead>\n",
       "  <tbody>\n",
       "    <tr>\n",
       "      <th>0</th>\n",
       "      <td>2016-01-09</td>\n",
       "      <td>Plain Papadum</td>\n",
       "      <td>4.0</td>\n",
       "    </tr>\n",
       "    <tr>\n",
       "      <th>1</th>\n",
       "      <td>2016-01-16</td>\n",
       "      <td>0</td>\n",
       "      <td>0.0</td>\n",
       "    </tr>\n",
       "    <tr>\n",
       "      <th>2</th>\n",
       "      <td>2016-01-23</td>\n",
       "      <td>0</td>\n",
       "      <td>0.0</td>\n",
       "    </tr>\n",
       "    <tr>\n",
       "      <th>3</th>\n",
       "      <td>2016-01-30</td>\n",
       "      <td>0</td>\n",
       "      <td>0.0</td>\n",
       "    </tr>\n",
       "    <tr>\n",
       "      <th>4</th>\n",
       "      <td>2016-02-06</td>\n",
       "      <td>Plain Papadum</td>\n",
       "      <td>2.0</td>\n",
       "    </tr>\n",
       "  </tbody>\n",
       "</table>\n",
       "</div>"
      ],
      "text/plain": [
       "  Order Date      Item Name  Quantity_y\n",
       "0 2016-01-09  Plain Papadum         4.0\n",
       "1 2016-01-16              0         0.0\n",
       "2 2016-01-23              0         0.0\n",
       "3 2016-01-30              0         0.0\n",
       "4 2016-02-06  Plain Papadum         2.0"
      ]
     },
     "execution_count": 50,
     "metadata": {},
     "output_type": "execute_result"
    }
   ],
   "source": [
    "result = result.drop(columns=['level_0', 'index_x', 'Quantity_x', 'index_y', 'Product Price', 'Earnings', 'TotEarnings', 'valueItem', 'dayName'])\n",
    "result = result.fillna(0)\n",
    "result.head()"
   ]
  },
  {
   "cell_type": "markdown",
   "metadata": {},
   "source": [
    "Raggruppamento delle date uguali in un unica riga la cui colonna delle quantità diventa la somma delle righe unificate."
   ]
  },
  {
   "cell_type": "code",
   "execution_count": 51,
   "metadata": {},
   "outputs": [
    {
     "data": {
      "text/html": [
       "<div>\n",
       "<style scoped>\n",
       "    .dataframe tbody tr th:only-of-type {\n",
       "        vertical-align: middle;\n",
       "    }\n",
       "\n",
       "    .dataframe tbody tr th {\n",
       "        vertical-align: top;\n",
       "    }\n",
       "\n",
       "    .dataframe thead th {\n",
       "        text-align: right;\n",
       "    }\n",
       "</style>\n",
       "<table border=\"1\" class=\"dataframe\">\n",
       "  <thead>\n",
       "    <tr style=\"text-align: right;\">\n",
       "      <th></th>\n",
       "      <th>Order Date</th>\n",
       "      <th>Quantity_y</th>\n",
       "    </tr>\n",
       "  </thead>\n",
       "  <tbody>\n",
       "    <tr>\n",
       "      <th>0</th>\n",
       "      <td>2016-01-09</td>\n",
       "      <td>4.0</td>\n",
       "    </tr>\n",
       "    <tr>\n",
       "      <th>1</th>\n",
       "      <td>2016-01-16</td>\n",
       "      <td>0.0</td>\n",
       "    </tr>\n",
       "    <tr>\n",
       "      <th>2</th>\n",
       "      <td>2016-01-23</td>\n",
       "      <td>0.0</td>\n",
       "    </tr>\n",
       "    <tr>\n",
       "      <th>3</th>\n",
       "      <td>2016-01-30</td>\n",
       "      <td>0.0</td>\n",
       "    </tr>\n",
       "    <tr>\n",
       "      <th>4</th>\n",
       "      <td>2016-02-06</td>\n",
       "      <td>7.0</td>\n",
       "    </tr>\n",
       "  </tbody>\n",
       "</table>\n",
       "</div>"
      ],
      "text/plain": [
       "  Order Date  Quantity_y\n",
       "0 2016-01-09         4.0\n",
       "1 2016-01-16         0.0\n",
       "2 2016-01-23         0.0\n",
       "3 2016-01-30         0.0\n",
       "4 2016-02-06         7.0"
      ]
     },
     "execution_count": 51,
     "metadata": {},
     "output_type": "execute_result"
    }
   ],
   "source": [
    "result = result.groupby('Order Date', as_index=False)['Quantity_y'].sum()\n",
    "result.head()"
   ]
  },
  {
   "cell_type": "markdown",
   "metadata": {},
   "source": [
    "Normalizzazione della data tramite indicizzazione. Dato che la data di per se non è un valore che ci può offrire un'accuratezza, è necessario normalizzarla. L'operazione avviene tramite indicizzazione crescente per ogni data incontrata."
   ]
  },
  {
   "cell_type": "code",
   "execution_count": 52,
   "metadata": {},
   "outputs": [],
   "source": [
    "count = 0\n",
    "dateVal = np.zeros(len(result))\n",
    "for i in result['Order Date']:\n",
    "    dateVal[count] = count\n",
    "    count+=1"
   ]
  },
  {
   "cell_type": "code",
   "execution_count": 53,
   "metadata": {},
   "outputs": [],
   "source": [
    "result['Date Value'] = dateVal"
   ]
  },
  {
   "cell_type": "markdown",
   "metadata": {},
   "source": [
    "Dal grafico è possibile vedere come le quantità di un prodotto nel tempo sono variate. Non essendo un grafico lineare si può pensare che ci possa essere una correlazione tra il periodo e le quantità vendute di un prodotto."
   ]
  },
  {
   "cell_type": "code",
   "execution_count": 54,
   "metadata": {},
   "outputs": [
    {
     "data": {
      "text/plain": [
       "<matplotlib.axes._subplots.AxesSubplot at 0x23abadca668>"
      ]
     },
     "execution_count": 54,
     "metadata": {},
     "output_type": "execute_result"
    },
    {
     "data": {
      "image/png": "[encoded data removed]",
      "text/plain": [
       "<Figure size 432x288 with 1 Axes>"
      ]
     },
     "metadata": {
      "needs_background": "light"
     },
     "output_type": "display_data"
    }
   ],
   "source": [
    "result.plot.scatter('Date Value', 'Quantity_y')"
   ]
  },
  {
   "cell_type": "code",
   "execution_count": 56,
   "metadata": {},
   "outputs": [],
   "source": [
    "valQuantity = result['Quantity_y'].values\n",
    "valDate = result['Date Value'].values"
   ]
  },
  {
   "cell_type": "markdown",
   "metadata": {},
   "source": [
    "L'effettivo grado di accuratezza dei dati. "
   ]
  },
  {
   "cell_type": "code",
   "execution_count": 57,
   "metadata": {},
   "outputs": [
    {
     "data": {
      "text/plain": [
       "0.2557721511892455"
      ]
     },
     "execution_count": 57,
     "metadata": {},
     "output_type": "execute_result"
    }
   ],
   "source": [
    "np.mean((valQuantity-valQuantity.mean()) * (valDate-valDate.mean())) / (valQuantity.std() * valDate.std())"
   ]
  },
  {
   "cell_type": "markdown",
   "metadata": {},
   "source": [
    "Nelle prossime linee di codice provo a fare previsioni sulle quantità che saranno vendute in una data futura."
   ]
  },
  {
   "cell_type": "markdown",
   "metadata": {},
   "source": [
    "K-Fold Cross Validation. Con questa tecnica si suddividono i dati in training set e validation set, i primi con l'onere di addestrare il sistema i secondi come verifica dei suoi apprendimenti. La divisione dei dati è svolta tramite data e si mira ad insegnare al sistema a riconoscere la quantità venduta."
   ]
  },
  {
   "cell_type": "code",
   "execution_count": 58,
   "metadata": {},
   "outputs": [],
   "source": [
    "from sklearn.model_selection import train_test_split\n",
    "train_data, val_data = train_test_split(result, test_size=1/3, random_state=42)"
   ]
  },
  {
   "cell_type": "code",
   "execution_count": 59,
   "metadata": {},
   "outputs": [],
   "source": [
    "X = result[[\"Date Value\"]]\n",
    "y = result[\"Quantity_y\"]"
   ]
  },
  {
   "cell_type": "code",
   "execution_count": 60,
   "metadata": {},
   "outputs": [],
   "source": [
    "X_train, X_val, y_train, y_val = train_test_split(X, y, test_size=1/3, random_state=42)"
   ]
  },
  {
   "cell_type": "code",
   "execution_count": 61,
   "metadata": {},
   "outputs": [
    {
     "data": {
      "text/plain": [
       "True"
      ]
     },
     "execution_count": 61,
     "metadata": {},
     "output_type": "execute_result"
    }
   ],
   "source": [
    "np.array_equal(X_train.index, y_train.index)"
   ]
  },
  {
   "cell_type": "code",
   "execution_count": 62,
   "metadata": {},
   "outputs": [],
   "source": [
    "from sklearn.linear_model import LinearRegression\n",
    "lrm = LinearRegression()"
   ]
  },
  {
   "cell_type": "code",
   "execution_count": 63,
   "metadata": {},
   "outputs": [
    {
     "data": {
      "text/plain": [
       "LinearRegression(copy_X=True, fit_intercept=True, n_jobs=None,\n",
       "         normalize=False)"
      ]
     },
     "execution_count": 63,
     "metadata": {},
     "output_type": "execute_result"
    }
   ],
   "source": [
    "lrm.fit(X_train, y_train)"
   ]
  },
  {
   "cell_type": "markdown",
   "metadata": {},
   "source": [
    "Errore Relativo, indica il rapporto tra l'errore assoluto e il valore medio della serie."
   ]
  },
  {
   "cell_type": "code",
   "execution_count": 64,
   "metadata": {},
   "outputs": [],
   "source": [
    "from sklearn.metrics import mean_squared_error"
   ]
  },
  {
   "cell_type": "code",
   "execution_count": 65,
   "metadata": {},
   "outputs": [
    {
     "data": {
      "text/plain": [
       "124.52382209679857"
      ]
     },
     "execution_count": 65,
     "metadata": {},
     "output_type": "execute_result"
    }
   ],
   "source": [
    "mean_squared_error(y_val, lrm.predict(X_val))"
   ]
  },
  {
   "cell_type": "code",
   "execution_count": 66,
   "metadata": {},
   "outputs": [],
   "source": [
    "X = result.drop([\"Order Date\"], axis=1)\n",
    "y = result[\"Date Value\"]"
   ]
  },
  {
   "cell_type": "code",
   "execution_count": 67,
   "metadata": {},
   "outputs": [],
   "source": [
    "from sklearn.preprocessing import PolynomialFeatures\n",
    "poly = PolynomialFeatures(degree=3)"
   ]
  },
  {
   "cell_type": "code",
   "execution_count": 68,
   "metadata": {},
   "outputs": [],
   "source": [
    "from sklearn.pipeline import Pipeline\n",
    "prm = Pipeline([\n",
    "(\"poly\", PolynomialFeatures(degree=2, include_bias=False)),\n",
    "(\"linreg\", LinearRegression())\n",
    "])"
   ]
  },
  {
   "cell_type": "code",
   "execution_count": 69,
   "metadata": {},
   "outputs": [
    {
     "data": {
      "text/plain": [
       "Pipeline(memory=None,\n",
       "     steps=[('poly', PolynomialFeatures(degree=2, include_bias=False, interaction_only=False)), ('linreg', LinearRegression(copy_X=True, fit_intercept=True, n_jobs=None,\n",
       "         normalize=False))])"
      ]
     },
     "execution_count": 69,
     "metadata": {},
     "output_type": "execute_result"
    }
   ],
   "source": [
    "prm.fit(X_train, y_train)"
   ]
  },
  {
   "cell_type": "markdown",
   "metadata": {},
   "source": [
    "Viene eseguita la predizione."
   ]
  },
  {
   "cell_type": "code",
   "execution_count": 70,
   "metadata": {},
   "outputs": [
    {
     "data": {
      "text/plain": [
       "array([ 2.40895156,  0.99660579, 11.48548199])"
      ]
     },
     "execution_count": 70,
     "metadata": {},
     "output_type": "execute_result"
    }
   ],
   "source": [
    "prm.predict([ [10], [5], [50] ])"
   ]
  },
  {
   "cell_type": "code",
   "execution_count": 71,
   "metadata": {},
   "outputs": [
    {
     "data": {
      "text/plain": [
       "array([[-1.06904497,  1.22474487],\n",
       "       [-0.26726124,  0.        ],\n",
       "       [ 1.33630621, -1.22474487]])"
      ]
     },
     "execution_count": 71,
     "metadata": {},
     "output_type": "execute_result"
    }
   ],
   "source": [
    "from sklearn.preprocessing import StandardScaler\n",
    "scaler = StandardScaler()\n",
    "scaler.fit_transform([[0.001, 4000],\n",
    "[0.002, 2500],\n",
    "[0.004, 1000]])"
   ]
  },
  {
   "cell_type": "code",
   "execution_count": 72,
   "metadata": {},
   "outputs": [],
   "source": [
    "from sklearn.pipeline import Pipeline\n",
    "prm = Pipeline([\n",
    "(\"poly\", PolynomialFeatures(degree=2, include_bias=False)),\n",
    "(\"linreg\", LinearRegression())\n",
    "])"
   ]
  },
  {
   "cell_type": "code",
   "execution_count": 73,
   "metadata": {},
   "outputs": [],
   "source": [
    "from sklearn.model_selection import KFold\n",
    "kf = KFold(5, shuffle=True, random_state=42)"
   ]
  },
  {
   "cell_type": "code",
   "execution_count": 74,
   "metadata": {},
   "outputs": [],
   "source": [
    "from sklearn.model_selection import cross_val_score\n",
    "model = Pipeline([\n",
    "(\"poly\", PolynomialFeatures(degree=2, include_bias=False)),\n",
    "(\"scale\", StandardScaler()),\n",
    "(\"linreg\", LinearRegression())\n",
    "])\n",
    "scores = cross_val_score(model, X, y, cv=kf)"
   ]
  },
  {
   "cell_type": "code",
   "execution_count": 75,
   "metadata": {},
   "outputs": [
    {
     "data": {
      "text/plain": [
       "array([1., 1., 1., 1., 1.])"
      ]
     },
     "execution_count": 75,
     "metadata": {},
     "output_type": "execute_result"
    }
   ],
   "source": [
    "scores"
   ]
  },
  {
   "cell_type": "code",
   "execution_count": 76,
   "metadata": {},
   "outputs": [
    {
     "data": {
      "text/plain": [
       "(1.0, 0.0)"
      ]
     },
     "execution_count": 76,
     "metadata": {},
     "output_type": "execute_result"
    }
   ],
   "source": [
    "scores.mean(), scores.std()"
   ]
  },
  {
   "cell_type": "markdown",
   "metadata": {},
   "source": [
    "Concludo dicendo che i risultati ottenuti non sono soddisfacenti come si sperava, sin dal calcolo numerico dell'accuratezza lo si poteva pensare. E' possibile che l'errore sia dovuto alla poco significativa normalizzazione della data oppure sin da principio, proprio dal fatto che data e quantità non sono correllate."
   ]
  },
  {
   "cell_type": "code",
   "execution_count": null,
   "metadata": {},
   "outputs": [],
   "source": []
  }
 ],
 "metadata": {
  "kernelspec": {
   "display_name": "Python 3",
   "language": "python",
   "name": "python3"
  },
  "language_info": {
   "codemirror_mode": {
    "name": "ipython",
    "version": 3
   },
   "file_extension": ".py",
   "mimetype": "text/x-python",
   "name": "python",
   "nbconvert_exporter": "python",
   "pygments_lexer": "ipython3",
   "version": "3.7.3"
  }
 },
 "nbformat": 4,
 "nbformat_minor": 2
}
